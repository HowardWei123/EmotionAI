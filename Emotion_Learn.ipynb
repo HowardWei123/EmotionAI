{
  "nbformat": 4,
  "nbformat_minor": 0,
  "metadata": {
    "colab": {
      "provenance": [],
      "gpuType": "T4",
      "collapsed_sections": [
        "66AOxaXrWwkO",
        "8qvKJlovMPyl"
      ]
    },
    "kernelspec": {
      "name": "python3",
      "display_name": "Python 3"
    },
    "language_info": {
      "name": "python"
    },
    "accelerator": "GPU"
  },
  "cells": [
    {
      "cell_type": "markdown",
      "source": [
        "# **Dependencies**"
      ],
      "metadata": {
        "id": "DkJ09vzkW5Jx"
      }
    },
    {
      "cell_type": "code",
      "execution_count": null,
      "metadata": {
        "id": "ZqkEZvrD_R3j"
      },
      "outputs": [],
      "source": [
        "import tensorflow as tf\n",
        "\n",
        "from tensorflow import keras\n",
        "from keras import layers\n",
        "from tensorflow.keras.models import Sequential\n",
        "from tensorflow.keras.regularizers import l2\n",
        "\n",
        "import cv2\n",
        "import os\n",
        "\n",
        "from sklearn.model_selection import train_test_split\n",
        "from sklearn.metrics import confusion_matrix\n",
        "import matplotlib.pyplot as plt\n",
        "import seaborn as sns\n",
        "import numpy as np"
      ]
    },
    {
      "cell_type": "markdown",
      "source": [
        "Original Data: https://www.kaggle.com/datasets/msambare/fer2013/data"
      ],
      "metadata": {
        "id": "UDo_UtFmVpqm"
      }
    },
    {
      "cell_type": "code",
      "source": [
        "!unzip /content/FER-2013-Full.zip"
      ],
      "metadata": {
        "id": "TZ9J3tNNBdeq",
        "collapsed": true
      },
      "execution_count": null,
      "outputs": []
    },
    {
      "cell_type": "markdown",
      "source": [
        "# **Tests**"
      ],
      "metadata": {
        "id": "66AOxaXrWwkO"
      }
    },
    {
      "cell_type": "code",
      "source": [
        "physical_devices = tf.config.list_physical_devices('GPU')\n",
        "\n",
        "print(\"GPU:\", tf.config.list_physical_devices('GPU'))\n",
        "print(\"Num GPUs:\", len(physical_devices))"
      ],
      "metadata": {
        "colab": {
          "base_uri": "https://localhost:8080/"
        },
        "id": "m-3K5g66e-QM",
        "outputId": "b958f6e5-c2e7-409c-fd3e-89711a29fd4a"
      },
      "execution_count": null,
      "outputs": [
        {
          "output_type": "stream",
          "name": "stdout",
          "text": [
            "GPU: [PhysicalDevice(name='/physical_device:GPU:0', device_type='GPU')]\n",
            "Num GPUs: 1\n"
          ]
        }
      ]
    },
    {
      "cell_type": "code",
      "source": [
        "img_array = cv2.imread(\"/content/train/surprise/Training_72717626.jpg\")\n",
        "img_array.shape"
      ],
      "metadata": {
        "id": "hPkM5o5LOelM",
        "colab": {
          "base_uri": "https://localhost:8080/"
        },
        "outputId": "115a0a52-1833-4913-99dc-784025237fc3"
      },
      "execution_count": null,
      "outputs": [
        {
          "output_type": "execute_result",
          "data": {
            "text/plain": [
              "(48, 48, 3)"
            ]
          },
          "metadata": {},
          "execution_count": 3
        }
      ]
    },
    {
      "cell_type": "code",
      "source": [
        "plt.axis('off')\n",
        "plt.imshow(img_array)"
      ],
      "metadata": {
        "id": "X7HhPUk5OizB",
        "colab": {
          "base_uri": "https://localhost:8080/",
          "height": 423
        },
        "outputId": "5bc356bb-6587-45ae-d68b-df1ee6b4f0a2"
      },
      "execution_count": null,
      "outputs": [
        {
          "output_type": "execute_result",
          "data": {
            "text/plain": [
              "<matplotlib.image.AxesImage at 0x7f3986135f30>"
            ]
          },
          "metadata": {},
          "execution_count": 4
        },
        {
          "output_type": "display_data",
          "data": {
            "text/plain": [
              "<Figure size 640x480 with 1 Axes>"
            ],
            "image/png": "[encoded data removed]"
          },
          "metadata": {}
        }
      ]
    },
    {
      "cell_type": "markdown",
      "source": [
        "# **Data**"
      ],
      "metadata": {
        "id": "0kb7-d27WS7q"
      }
    },
    {
      "cell_type": "code",
      "source": [
        "Classes = ['angry','disgust','fear','happy','neutral','sad','surprise']\n",
        "# Classes = ['happy', 'sad']\n",
        "# Classes = ['happy', 'sad', 'neutral']\n",
        "# Classes = ['happy', 'sad', 'angry']\n",
        "# Classes = ['surprise', 'fear', 'disgust']\n",
        "# Classes = ['sad', 'fear', 'angry']\n",
        "# Classes = ['happy', 'sad', 'neutral', 'angry']"
      ],
      "metadata": {
        "id": "_se06dYgOmzV"
      },
      "execution_count": null,
      "outputs": []
    },
    {
      "cell_type": "markdown",
      "source": [
        "## **Read all images, resize, and convert into arrays**"
      ],
      "metadata": {
        "id": "8cMO56QZOpqY"
      }
    },
    {
      "cell_type": "code",
      "source": [
        "def create_data( data, Datadirectory ):\n",
        "  for category in Classes:\n",
        "    path = os.path.join(Datadirectory, category)\n",
        "    class_num = Classes.index(category)\n",
        "    for img in os.listdir(path):\n",
        "      try:\n",
        "        img_array = cv2.imread(os.path.join(path,img) )\n",
        "        #img_array = cv2.resize(img_array, (48, 48) )\n",
        "        data.append( [img_array, class_num] )\n",
        "      except Exception as e:\n",
        "        pass"
      ],
      "metadata": {
        "id": "JosBRNfHOtVc"
      },
      "execution_count": null,
      "outputs": []
    },
    {
      "cell_type": "code",
      "source": [
        "training_data = []\n",
        "# Datadirectory = \"/content/FER2013Dataset/train\"\n",
        "Datadirectory = \"/content/train\"\n",
        "create_data(training_data, Datadirectory)"
      ],
      "metadata": {
        "id": "0V1OOK_jOvaN"
      },
      "execution_count": null,
      "outputs": []
    },
    {
      "cell_type": "code",
      "source": [
        "testing_data = []\n",
        "# Datadirectory = \"/content/FER2013Dataset/test\"\n",
        "Datadirectory = \"/content/test\"\n",
        "create_data(testing_data, Datadirectory)"
      ],
      "metadata": {
        "id": "j9EXW8Zl4kmC"
      },
      "execution_count": null,
      "outputs": []
    },
    {
      "cell_type": "code",
      "source": [
        "print( len(training_data) )\n",
        "print( len(testing_data) )"
      ],
      "metadata": {
        "id": "w31Bj1BhOwsZ",
        "colab": {
          "base_uri": "https://localhost:8080/"
        },
        "outputId": "60f9149c-47a3-4c30-a1e3-eaee84db7491"
      },
      "execution_count": null,
      "outputs": [
        {
          "output_type": "stream",
          "name": "stdout",
          "text": [
            "28709\n",
            "7178\n"
          ]
        }
      ]
    },
    {
      "cell_type": "markdown",
      "source": [
        "## **Create Training and Testing Data NumPy Arrays**"
      ],
      "metadata": {
        "id": "tOhx6wpjWchu"
      }
    },
    {
      "cell_type": "code",
      "source": [
        "def create_train_test(data, x, y):\n",
        "  for features, label in data:\n",
        "    x.append(features)\n",
        "    y.append(label)"
      ],
      "metadata": {
        "id": "N5Y2szuuO0gF"
      },
      "execution_count": null,
      "outputs": []
    },
    {
      "cell_type": "code",
      "source": [
        "x_train = []\n",
        "y_train = []\n",
        "\n",
        "x_test = []\n",
        "y_test = []\n",
        "\n",
        "create_train_test(training_data, x_train, y_train)\n",
        "create_train_test(testing_data, x_test, y_test)"
      ],
      "metadata": {
        "id": "fUi84cSiFCaq"
      },
      "execution_count": null,
      "outputs": []
    },
    {
      "cell_type": "code",
      "source": [
        "print(len(x_train))\n",
        "print(len(y_train))\n",
        "print(len(x_test))\n",
        "print(len(y_test))"
      ],
      "metadata": {
        "colab": {
          "base_uri": "https://localhost:8080/"
        },
        "id": "x_YnfLGIuw8G",
        "outputId": "e4105bea-dcb0-4880-e35b-ad1bc5a2b614"
      },
      "execution_count": null,
      "outputs": [
        {
          "output_type": "stream",
          "name": "stdout",
          "text": [
            "28709\n",
            "28709\n",
            "7178\n",
            "7178\n"
          ]
        }
      ]
    },
    {
      "cell_type": "code",
      "source": [
        "X_train = np.array(x_train) / 255.0\n",
        "Y_train = np.array(y_train)"
      ],
      "metadata": {
        "id": "1sIapTesO2mT"
      },
      "execution_count": null,
      "outputs": []
    },
    {
      "cell_type": "code",
      "source": [
        "X_test = np.array(x_test) / 255.0\n",
        "Y_test = np.array(y_test)"
      ],
      "metadata": {
        "id": "7BZSGTtdiVgC"
      },
      "execution_count": null,
      "outputs": []
    },
    {
      "cell_type": "code",
      "source": [
        "print(len(X_train))\n",
        "print(len(Y_train))\n",
        "print(len(X_test))\n",
        "print(len(Y_test))\n",
        "X_train[0].shape"
      ],
      "metadata": {
        "colab": {
          "base_uri": "https://localhost:8080/"
        },
        "id": "rcnymOcku8IF",
        "outputId": "ad3ec427-9618-4a9c-f3e6-2926797c1321"
      },
      "execution_count": null,
      "outputs": [
        {
          "output_type": "stream",
          "name": "stdout",
          "text": [
            "22967\n",
            "22967\n",
            "7178\n",
            "7178\n"
          ]
        },
        {
          "output_type": "execute_result",
          "data": {
            "text/plain": [
              "(48, 48, 3)"
            ]
          },
          "metadata": {},
          "execution_count": 22
        }
      ]
    },
    {
      "cell_type": "code",
      "source": [
        "# Split the training data into training and validation sets\n",
        "X_train, X_val, Y_train, Y_val = train_test_split(X_train, Y_train, test_size=0.2, random_state=42)"
      ],
      "metadata": {
        "id": "jnp3yzcl3QjN"
      },
      "execution_count": null,
      "outputs": []
    },
    {
      "cell_type": "markdown",
      "source": [
        "##**Targeted Data Augmentation**"
      ],
      "metadata": {
        "id": "m3UD70zHrg8H"
      }
    },
    {
      "cell_type": "code",
      "source": [
        "from tensorflow.keras.preprocessing.image import ImageDataGenerator\n",
        "\n",
        "# More aggressive data augmentation for underrepresented classes\n",
        "datagen_underrepresented = ImageDataGenerator(\n",
        "    rotation_range=45,\n",
        "    width_shift_range=0.2,\n",
        "    height_shift_range=0.2,\n",
        "    zoom_range=0.2,\n",
        "    horizontal_flip=True\n",
        ")\n",
        "\n",
        "augmented_data = []\n",
        "augmented_labels = []\n",
        "\n",
        "underrepresented_classes = ['angry','disgust','fear','neutral','sad','surprise']\n",
        "underrepresented_indexes = [Classes.index(c) for c in underrepresented_classes]\n",
        "\n",
        "training_data_for_aug = list(zip(X_train, Y_train))\n",
        "\n",
        "for img, label in training_data_for_aug:\n",
        "    augmented_images = []\n",
        "    if label in underrepresented_indexes:\n",
        "        if label == 1: # disgust\n",
        "          augmented_images = [datagen_underrepresented.random_transform(img) for _ in range(15)]\n",
        "        else:\n",
        "          augmented_images = [datagen_underrepresented.random_transform(img)]\n",
        "    augmented_data.extend(augmented_images)\n",
        "    augmented_labels.extend([label] * len(augmented_images))\n",
        "\n",
        "# Convert to numpy arrays and reshape\n",
        "X_augmented = np.array(augmented_data).reshape(-1, 48, 48, 3)\n",
        "Y_augmented = np.array(augmented_labels)\n",
        "\n",
        "# Update training data with augmented data\n",
        "X_train = np.concatenate((X_train, X_augmented), axis=0)\n",
        "Y_train = np.concatenate((Y_train, Y_augmented), axis=0)"
      ],
      "metadata": {
        "id": "13-bEJor80Wo"
      },
      "execution_count": null,
      "outputs": []
    },
    {
      "cell_type": "markdown",
      "source": [
        "**Validation Included**"
      ],
      "metadata": {
        "id": "GXq9eW2r-4lQ"
      }
    },
    {
      "cell_type": "code",
      "source": [
        "from tensorflow.keras.preprocessing.image import ImageDataGenerator\n",
        "from sklearn.model_selection import train_test_split\n",
        "\n",
        "original_X_train, x_val, original_Y_train, y_val = train_test_split(\n",
        "    X_train, Y_train, test_size=0.2, stratify=y_train, random_state=42\n",
        ")\n",
        "\n",
        "# Convert validation set to numpy arrays and normalize\n",
        "X_val = np.array(x_val).reshape(-1, 48, 48, 3)\n",
        "Y_val = np.array(y_val)\n",
        "\n",
        "training_data_for_aug = list(zip(original_X_train, original_Y_train))\n",
        "\n",
        "datagen_underrepresented = ImageDataGenerator(\n",
        "    rotation_range=45,\n",
        "    width_shift_range=0.2,\n",
        "    height_shift_range=0.2,\n",
        "    shear_range=0.2,\n",
        "    zoom_range=0.2,\n",
        "    horizontal_flip=True,\n",
        "    fill_mode='nearest'\n",
        ")\n",
        "\n",
        "augmented_data = []\n",
        "augmented_labels = []\n",
        "\n",
        "underrepresented_classes = ['angry','disgust','fear','neutral','sad','surprise']\n",
        "\n",
        "underrepresented_indexes = [Classes.index(c) for c in underrepresented_classes]\n",
        "\n",
        "for img, label in training_data_for_aug:\n",
        "    augmented_images = []\n",
        "    if label in underrepresented_indexes:\n",
        "        if label == 1: # disgust\n",
        "          augmented_images = [datagen_underrepresented.random_transform(img) for _ in range(16)]\n",
        "        elif label == 6: # surprise\n",
        "          augmented_images = [datagen_underrepresented.random_transform(img) for _ in range(2)]\n",
        "        else:\n",
        "          augmented_images = [datagen_underrepresented.random_transform(img)]\n",
        "    augmented_data.extend(augmented_images)\n",
        "    augmented_labels.extend([label] * len(augmented_images))\n",
        "\n",
        "# Convert augmented data to numpy arrays and normalize\n",
        "X_augmented = np.array(augmented_data).reshape(-1, 48, 48, 3)\n",
        "Y_augmented = np.array(augmented_labels)\n",
        "\n",
        "# Combine original and augmented training data\n",
        "X_train = np.concatenate((X_augmented, np.array(original_X_train).reshape(-1, 48, 48, 3)), axis=0)\n",
        "Y_train = np.concatenate((Y_augmented, np.array(original_Y_train)), axis=0)"
      ],
      "metadata": {
        "id": "H1Wed5d_rnJy"
      },
      "execution_count": null,
      "outputs": []
    },
    {
      "cell_type": "code",
      "source": [
        "print(np.bincount(Y_train))"
      ],
      "metadata": {
        "id": "zIbIgmq9vEKG",
        "colab": {
          "base_uri": "https://localhost:8080/"
        },
        "outputId": "101b710e-a953-4e3a-b6c5-1d7940c87f43"
      },
      "execution_count": null,
      "outputs": [
        {
          "output_type": "stream",
          "name": "stdout",
          "text": [
            "[7990 6976 8194 7215 9930 9660 6342]\n"
          ]
        }
      ]
    },
    {
      "cell_type": "code",
      "source": [
        "print(np.bincount(Y_test))"
      ],
      "metadata": {
        "colab": {
          "base_uri": "https://localhost:8080/"
        },
        "id": "X66jH6ubk9eA",
        "outputId": "ceed9152-12d2-4d54-908e-71380f7402f6"
      },
      "execution_count": null,
      "outputs": [
        {
          "output_type": "stream",
          "name": "stdout",
          "text": [
            "[ 958  111 1024 1774 1233 1247  831]\n"
          ]
        }
      ]
    },
    {
      "cell_type": "markdown",
      "source": [
        "# **Optimized Data Augmentation**"
      ],
      "metadata": {
        "id": "iHtfKGlwO-gp"
      }
    },
    {
      "cell_type": "code",
      "source": [
        "from tensorflow.keras.preprocessing.image import ImageDataGenerator\n",
        "\n",
        "# Data Augmentation for training data\n",
        "train_datagen = ImageDataGenerator(\n",
        "    rescale=1./255,\n",
        "    #rotation_range=45,\n",
        "    #width_shift_range=0.2,\n",
        "    #height_shift_range=0.2,\n",
        "    #zoom_range=0.2,\n",
        "    #horizontal_flip=True,\n",
        "    validation_split=0.2 # set validation split\n",
        ")\n",
        "\n",
        "# Data augmentation for validation data should only rescale\n",
        "val_datagen = ImageDataGenerator(rescale=1./255, validation_split=0.2)\n",
        "\n",
        "# Load training data in batches\n",
        "train_generator = train_datagen.flow_from_directory(\n",
        "    directory=\"/content/train\",\n",
        "    target_size=(48, 48),\n",
        "    batch_size=32,\n",
        "    color_mode=\"grayscale\",\n",
        "    class_mode='sparse',\n",
        "    subset='training'\n",
        ")\n",
        "\n",
        "# Load validation data in batches\n",
        "validation_generator = val_datagen.flow_from_directory(\n",
        "    directory=\"/content/train\",\n",
        "    target_size=(48, 48),\n",
        "    batch_size=32,\n",
        "    color_mode=\"grayscale\",\n",
        "    class_mode='sparse',\n",
        "    subset='validation'\n",
        ")"
      ],
      "metadata": {
        "colab": {
          "base_uri": "https://localhost:8080/"
        },
        "id": "_V1d0ah_PLdt",
        "outputId": "b14adbbd-3928-4bee-aaca-2350d8289ca1"
      },
      "execution_count": null,
      "outputs": [
        {
          "output_type": "stream",
          "name": "stdout",
          "text": [
            "Found 22968 images belonging to 7 classes.\n",
            "Found 5741 images belonging to 7 classes.\n"
          ]
        }
      ]
    },
    {
      "cell_type": "markdown",
      "source": [
        "# **Sequential Model**"
      ],
      "metadata": {
        "id": "g2k_pFIg4YSN"
      }
    },
    {
      "cell_type": "code",
      "source": [
        "model = Sequential()\n",
        "\n",
        "# Layer 1\n",
        "model.add(layers.Conv2D(64, kernel_size=(3, 3), activation='relu',\n",
        "                        input_shape=(48, 48, 3), data_format='channels_last',\n",
        "                        kernel_regularizer=l2(0.01)))\n",
        "model.add(layers.Conv2D(64, kernel_size=(3, 3), activation='relu', padding='same'))\n",
        "model.add(layers.BatchNormalization())\n",
        "model.add(layers.MaxPooling2D(pool_size=(2, 2), strides=(2, 2)))\n",
        "model.add(layers.Dropout(0.2))\n",
        "\n",
        "# Layer 2\n",
        "model.add(layers.Conv2D(128, kernel_size=(3, 3), activation='relu', padding='same'))\n",
        "model.add(layers.BatchNormalization())\n",
        "model.add(layers.Conv2D(128, kernel_size=(3, 3), activation='relu', padding='same'))\n",
        "model.add(layers.BatchNormalization())\n",
        "model.add(layers.MaxPooling2D(pool_size=(2, 2), strides=(2, 2)))\n",
        "model.add(layers.Dropout(0.2))\n",
        "\n",
        "# Layer 3\n",
        "model.add(layers.Conv2D(256, kernel_size=(3, 3), activation='relu', padding='same'))\n",
        "model.add(layers.BatchNormalization())\n",
        "model.add(layers.Conv2D(256, kernel_size=(3, 3), activation='relu', padding='same'))\n",
        "model.add(layers.BatchNormalization())\n",
        "model.add(layers.MaxPooling2D(pool_size=(2, 2), strides=(2, 2)))\n",
        "model.add(layers.Dropout(0.2))\n",
        "\n",
        "# Layer 4\n",
        "model.add(layers.Conv2D(512, kernel_size=(3, 3), activation='relu', padding='same'))\n",
        "model.add(layers.BatchNormalization())\n",
        "model.add(layers.Conv2D(512, kernel_size=(3, 3), activation='relu', padding='same'))\n",
        "model.add(layers.BatchNormalization())\n",
        "model.add(layers.MaxPooling2D(pool_size=(2, 2), strides=(2, 2)))\n",
        "model.add(layers.Dropout(0.2))\n",
        "\n",
        "# Flatten the layers\n",
        "model.add(layers.Flatten())\n",
        "\n",
        "# Fully connected layers\n",
        "model.add(layers.Dense(512, activation='relu'))\n",
        "model.add(layers.Dropout(0.2))\n",
        "model.add(layers.Dense(256, activation='relu'))\n",
        "model.add(layers.Dropout(0.2))\n",
        "model.add(layers.Dense(128, activation='relu'))\n",
        "model.add(layers.Dropout(0.2))\n",
        "\n",
        "# Output layer\n",
        "model.add(layers.Dense(7, activation='softmax'))"
      ],
      "metadata": {
        "id": "9ucHa6XaPRRo"
      },
      "execution_count": null,
      "outputs": []
    },
    {
      "cell_type": "code",
      "source": [
        "# Compile the model\n",
        "model.compile(\n",
        "    optimizer='adam',\n",
        "    loss='sparse_categorical_crossentropy',\n",
        "    metrics=['accuracy']\n",
        ")"
      ],
      "metadata": {
        "id": "EkDKdAb94T1g"
      },
      "execution_count": null,
      "outputs": []
    },
    {
      "cell_type": "markdown",
      "source": [
        "#**EfficientNet80 Model**"
      ],
      "metadata": {
        "id": "j_kczX6Z5AKE"
      }
    },
    {
      "cell_type": "code",
      "source": [
        "from tensorflow.keras.applications import EfficientNetB0\n",
        "\n",
        "# Define the input shape\n",
        "input_shape = (48, 48, 1)\n",
        "\n",
        "# Create a new input layer that accepts grayscale images\n",
        "inputs = keras.Input(shape=input_shape)\n",
        "x = layers.Conv2D(3, (3, 3), padding='same', activation='relu')(inputs)\n",
        "\n",
        "# Load the EfficientNetB0 model with pre-trained weights, excluding the top layers\n",
        "# Use the output of the Conv2D layer as input to EfficientNetB0\n",
        "base_model = EfficientNetB0(weights='imagenet', include_top=False, input_shape=(48, 48, 3))\n",
        "\n",
        "# Add custom layers on top of the base model\n",
        "x = base_model(x)\n",
        "x = layers.GlobalAveragePooling2D()(x)  # Global average pooling to reduce dimensions\n",
        "x = layers.Dense(128, activation='relu')(x)  # Fully connected layer with 128 units\n",
        "x = layers.Dropout(0.1)(x)  # Dropout for regularization\n",
        "outputs = layers.Dense(7, activation='softmax')(x)  # Output layer for 7 classes\n",
        "\n",
        "# Combine the base model and custom layers into a new model\n",
        "model = keras.Model(inputs=base_model.input, outputs=outputs)"
      ],
      "metadata": {
        "id": "wJYAM0RgfSKB"
      },
      "execution_count": null,
      "outputs": []
    },
    {
      "cell_type": "code",
      "source": [
        "model.compile(\n",
        "    optimizer='adam',\n",
        "    loss='sparse_categorical_crossentropy',\n",
        "    metrics=['accuracy']\n",
        "    )"
      ],
      "metadata": {
        "id": "4s5rPSPCfYyJ"
      },
      "execution_count": null,
      "outputs": []
    },
    {
      "cell_type": "markdown",
      "source": [
        "# **Train + Test with Datagens**"
      ],
      "metadata": {
        "id": "kTm2UCeA4r0B"
      }
    },
    {
      "cell_type": "code",
      "source": [
        "# Train the model\n",
        "model.fit(\n",
        "    train_generator,\n",
        "    epochs=30,\n",
        "    validation_data=validation_generator,\n",
        "    shuffle=True\n",
        ")"
      ],
      "metadata": {
        "colab": {
          "base_uri": "https://localhost:8080/"
        },
        "id": "yvXvKJkc4OJe",
        "outputId": "eb6fa51b-b123-4d3c-b6e1-1abb9a14bea8"
      },
      "execution_count": null,
      "outputs": [
        {
          "output_type": "stream",
          "name": "stdout",
          "text": [
            "Epoch 1/30\n"
          ]
        },
        {
          "output_type": "stream",
          "name": "stderr",
          "text": [
            "/usr/local/lib/python3.10/dist-packages/keras/src/trainers/data_adapters/py_dataset_adapter.py:121: UserWarning: Your `PyDataset` class should call `super().__init__(**kwargs)` in its constructor. `**kwargs` can include `workers`, `use_multiprocessing`, `max_queue_size`. Do not pass these arguments to `fit()`, as they will be ignored.\n",
            "  self._warn_if_super_not_called()\n"
          ]
        },
        {
          "output_type": "stream",
          "name": "stdout",
          "text": [
            "\u001b[1m718/718\u001b[0m \u001b[32m━━━━━━━━━━━━━━━━━━━━\u001b[0m\u001b[37m\u001b[0m \u001b[1m23s\u001b[0m 24ms/step - accuracy: 0.2734 - loss: 1.7783 - val_accuracy: 0.4187 - val_loss: 1.5118\n",
            "Epoch 2/30\n",
            "\u001b[1m718/718\u001b[0m \u001b[32m━━━━━━━━━━━━━━━━━━━━\u001b[0m\u001b[37m\u001b[0m \u001b[1m11s\u001b[0m 15ms/step - accuracy: 0.4386 - loss: 1.4667 - val_accuracy: 0.4799 - val_loss: 1.3532\n",
            "Epoch 3/30\n",
            "\u001b[1m718/718\u001b[0m \u001b[32m━━━━━━━━━━━━━━━━━━━━\u001b[0m\u001b[37m\u001b[0m \u001b[1m10s\u001b[0m 14ms/step - accuracy: 0.5015 - loss: 1.3054 - val_accuracy: 0.5138 - val_loss: 1.2795\n",
            "Epoch 4/30\n",
            "\u001b[1m718/718\u001b[0m \u001b[32m━━━━━━━━━━━━━━━━━━━━\u001b[0m\u001b[37m\u001b[0m \u001b[1m11s\u001b[0m 15ms/step - accuracy: 0.5481 - loss: 1.1806 - val_accuracy: 0.5030 - val_loss: 1.2895\n",
            "Epoch 5/30\n",
            "\u001b[1m718/718\u001b[0m \u001b[32m━━━━━━━━━━━━━━━━━━━━\u001b[0m\u001b[37m\u001b[0m \u001b[1m11s\u001b[0m 15ms/step - accuracy: 0.5882 - loss: 1.0914 - val_accuracy: 0.5400 - val_loss: 1.2187\n",
            "Epoch 6/30\n",
            "\u001b[1m718/718\u001b[0m \u001b[32m━━━━━━━━━━━━━━━━━━━━\u001b[0m\u001b[37m\u001b[0m \u001b[1m11s\u001b[0m 15ms/step - accuracy: 0.6224 - loss: 1.0042 - val_accuracy: 0.5407 - val_loss: 1.2381\n",
            "Epoch 7/30\n",
            "\u001b[1m718/718\u001b[0m \u001b[32m━━━━━━━━━━━━━━━━━━━━\u001b[0m\u001b[37m\u001b[0m \u001b[1m11s\u001b[0m 15ms/step - accuracy: 0.6576 - loss: 0.9057 - val_accuracy: 0.5544 - val_loss: 1.2535\n",
            "Epoch 8/30\n",
            "\u001b[1m718/718\u001b[0m \u001b[32m━━━━━━━━━━━━━━━━━━━━\u001b[0m\u001b[37m\u001b[0m \u001b[1m21s\u001b[0m 16ms/step - accuracy: 0.6865 - loss: 0.8335 - val_accuracy: 0.5509 - val_loss: 1.3033\n",
            "Epoch 9/30\n",
            "\u001b[1m718/718\u001b[0m \u001b[32m━━━━━━━━━━━━━━━━━━━━\u001b[0m\u001b[37m\u001b[0m \u001b[1m12s\u001b[0m 16ms/step - accuracy: 0.7223 - loss: 0.7415 - val_accuracy: 0.5523 - val_loss: 1.3230\n",
            "Epoch 10/30\n",
            "\u001b[1m718/718\u001b[0m \u001b[32m━━━━━━━━━━━━━━━━━━━━\u001b[0m\u001b[37m\u001b[0m \u001b[1m21s\u001b[0m 17ms/step - accuracy: 0.7660 - loss: 0.6429 - val_accuracy: 0.5494 - val_loss: 1.3646\n",
            "Epoch 11/30\n",
            "\u001b[1m718/718\u001b[0m \u001b[32m━━━━━━━━━━━━━━━━━━━━\u001b[0m\u001b[37m\u001b[0m \u001b[1m12s\u001b[0m 16ms/step - accuracy: 0.7914 - loss: 0.5620 - val_accuracy: 0.5516 - val_loss: 1.4822\n",
            "Epoch 12/30\n",
            "\u001b[1m718/718\u001b[0m \u001b[32m━━━━━━━━━━━━━━━━━━━━\u001b[0m\u001b[37m\u001b[0m \u001b[1m19s\u001b[0m 14ms/step - accuracy: 0.8137 - loss: 0.4984 - val_accuracy: 0.5497 - val_loss: 1.6171\n",
            "Epoch 13/30\n",
            "\u001b[1m718/718\u001b[0m \u001b[32m━━━━━━━━━━━━━━━━━━━━\u001b[0m\u001b[37m\u001b[0m \u001b[1m22s\u001b[0m 17ms/step - accuracy: 0.8360 - loss: 0.4504 - val_accuracy: 0.5405 - val_loss: 1.7340\n",
            "Epoch 14/30\n",
            "\u001b[1m718/718\u001b[0m \u001b[32m━━━━━━━━━━━━━━━━━━━━\u001b[0m\u001b[37m\u001b[0m \u001b[1m20s\u001b[0m 16ms/step - accuracy: 0.8547 - loss: 0.3904 - val_accuracy: 0.5429 - val_loss: 1.8855\n",
            "Epoch 15/30\n",
            "\u001b[1m718/718\u001b[0m \u001b[32m━━━━━━━━━━━━━━━━━━━━\u001b[0m\u001b[37m\u001b[0m \u001b[1m20s\u001b[0m 15ms/step - accuracy: 0.8703 - loss: 0.3492 - val_accuracy: 0.5433 - val_loss: 2.0450\n",
            "Epoch 16/30\n",
            "\u001b[1m718/718\u001b[0m \u001b[32m━━━━━━━━━━━━━━━━━━━━\u001b[0m\u001b[37m\u001b[0m \u001b[1m20s\u001b[0m 15ms/step - accuracy: 0.8830 - loss: 0.3112 - val_accuracy: 0.5450 - val_loss: 2.1164\n",
            "Epoch 17/30\n",
            "\u001b[1m718/718\u001b[0m \u001b[32m━━━━━━━━━━━━━━━━━━━━\u001b[0m\u001b[37m\u001b[0m \u001b[1m20s\u001b[0m 15ms/step - accuracy: 0.8954 - loss: 0.2843 - val_accuracy: 0.5457 - val_loss: 2.2373\n",
            "Epoch 18/30\n",
            "\u001b[1m718/718\u001b[0m \u001b[32m━━━━━━━━━━━━━━━━━━━━\u001b[0m\u001b[37m\u001b[0m \u001b[1m22s\u001b[0m 17ms/step - accuracy: 0.9069 - loss: 0.2517 - val_accuracy: 0.5433 - val_loss: 2.5382\n",
            "Epoch 19/30\n",
            "\u001b[1m718/718\u001b[0m \u001b[32m━━━━━━━━━━━━━━━━━━━━\u001b[0m\u001b[37m\u001b[0m \u001b[1m20s\u001b[0m 15ms/step - accuracy: 0.9117 - loss: 0.2397 - val_accuracy: 0.5415 - val_loss: 2.4155\n",
            "Epoch 20/30\n",
            "\u001b[1m718/718\u001b[0m \u001b[32m━━━━━━━━━━━━━━━━━━━━\u001b[0m\u001b[37m\u001b[0m \u001b[1m11s\u001b[0m 15ms/step - accuracy: 0.9210 - loss: 0.2205 - val_accuracy: 0.5459 - val_loss: 2.7879\n",
            "Epoch 21/30\n",
            "\u001b[1m718/718\u001b[0m \u001b[32m━━━━━━━━━━━━━━━━━━━━\u001b[0m\u001b[37m\u001b[0m \u001b[1m22s\u001b[0m 16ms/step - accuracy: 0.9193 - loss: 0.2196 - val_accuracy: 0.5356 - val_loss: 2.8961\n",
            "Epoch 22/30\n",
            "\u001b[1m718/718\u001b[0m \u001b[32m━━━━━━━━━━━━━━━━━━━━\u001b[0m\u001b[37m\u001b[0m \u001b[1m11s\u001b[0m 15ms/step - accuracy: 0.9251 - loss: 0.2010 - val_accuracy: 0.5405 - val_loss: 3.0105\n",
            "Epoch 23/30\n",
            "\u001b[1m718/718\u001b[0m \u001b[32m━━━━━━━━━━━━━━━━━━━━\u001b[0m\u001b[37m\u001b[0m \u001b[1m11s\u001b[0m 15ms/step - accuracy: 0.9288 - loss: 0.1973 - val_accuracy: 0.5389 - val_loss: 2.8736\n",
            "Epoch 24/30\n",
            "\u001b[1m718/718\u001b[0m \u001b[32m━━━━━━━━━━━━━━━━━━━━\u001b[0m\u001b[37m\u001b[0m \u001b[1m20s\u001b[0m 15ms/step - accuracy: 0.9309 - loss: 0.1867 - val_accuracy: 0.5408 - val_loss: 2.9931\n",
            "Epoch 25/30\n",
            "\u001b[1m718/718\u001b[0m \u001b[32m━━━━━━━━━━━━━━━━━━━━\u001b[0m\u001b[37m\u001b[0m \u001b[1m21s\u001b[0m 15ms/step - accuracy: 0.9401 - loss: 0.1677 - val_accuracy: 0.5300 - val_loss: 2.9947\n",
            "Epoch 26/30\n",
            "\u001b[1m718/718\u001b[0m \u001b[32m━━━━━━━━━━━━━━━━━━━━\u001b[0m\u001b[37m\u001b[0m \u001b[1m20s\u001b[0m 15ms/step - accuracy: 0.9403 - loss: 0.1685 - val_accuracy: 0.5396 - val_loss: 3.0843\n",
            "Epoch 27/30\n",
            "\u001b[1m718/718\u001b[0m \u001b[32m━━━━━━━━━━━━━━━━━━━━\u001b[0m\u001b[37m\u001b[0m \u001b[1m11s\u001b[0m 15ms/step - accuracy: 0.9409 - loss: 0.1619 - val_accuracy: 0.5374 - val_loss: 3.2526\n",
            "Epoch 28/30\n",
            "\u001b[1m718/718\u001b[0m \u001b[32m━━━━━━━━━━━━━━━━━━━━\u001b[0m\u001b[37m\u001b[0m \u001b[1m10s\u001b[0m 14ms/step - accuracy: 0.9383 - loss: 0.1772 - val_accuracy: 0.5337 - val_loss: 3.1904\n",
            "Epoch 29/30\n",
            "\u001b[1m718/718\u001b[0m \u001b[32m━━━━━━━━━━━━━━━━━━━━\u001b[0m\u001b[37m\u001b[0m \u001b[1m21s\u001b[0m 15ms/step - accuracy: 0.9456 - loss: 0.1620 - val_accuracy: 0.5297 - val_loss: 3.1905\n",
            "Epoch 30/30\n",
            "\u001b[1m718/718\u001b[0m \u001b[32m━━━━━━━━━━━━━━━━━━━━\u001b[0m\u001b[37m\u001b[0m \u001b[1m12s\u001b[0m 17ms/step - accuracy: 0.9445 - loss: 0.1543 - val_accuracy: 0.5438 - val_loss: 3.4209\n"
          ]
        },
        {
          "output_type": "execute_result",
          "data": {
            "text/plain": [
              "<keras.src.callbacks.history.History at 0x7bd85741efb0>"
            ]
          },
          "metadata": {},
          "execution_count": 17
        }
      ]
    },
    {
      "cell_type": "code",
      "source": [
        "# Data augmentation for test data should only rescale\n",
        "test_datagen = ImageDataGenerator(rescale=1./255)\n",
        "\n",
        "# Load test data in batches\n",
        "test_generator = test_datagen.flow_from_directory(\n",
        "    directory=\"/content/test\",\n",
        "    target_size=(48, 48),\n",
        "    color_mode=\"grayscale\",\n",
        "    class_mode='sparse'\n",
        ")"
      ],
      "metadata": {
        "colab": {
          "base_uri": "https://localhost:8080/"
        },
        "id": "ezU-mz_8QYFv",
        "outputId": "cc781a65-036b-4e17-c347-cac8375ce3b0"
      },
      "execution_count": null,
      "outputs": [
        {
          "output_type": "stream",
          "name": "stdout",
          "text": [
            "Found 7178 images belonging to 7 classes.\n"
          ]
        }
      ]
    },
    {
      "cell_type": "code",
      "source": [
        "# Evaluate the model\n",
        "model.evaluate(test_generator)"
      ],
      "metadata": {
        "colab": {
          "base_uri": "https://localhost:8080/"
        },
        "id": "h-1YrlLJ4B_Y",
        "outputId": "3ed42076-5fcc-41e8-f3dc-30d41734eac5"
      },
      "execution_count": null,
      "outputs": [
        {
          "output_type": "stream",
          "name": "stdout",
          "text": [
            "\u001b[1m 16/225\u001b[0m \u001b[32m━\u001b[0m\u001b[37m━━━━━━━━━━━━━━━━━━━\u001b[0m \u001b[1m2s\u001b[0m 11ms/step - accuracy: 0.5568 - loss: 3.6210"
          ]
        },
        {
          "output_type": "stream",
          "name": "stderr",
          "text": [
            "/usr/local/lib/python3.10/dist-packages/keras/src/trainers/data_adapters/py_dataset_adapter.py:121: UserWarning: Your `PyDataset` class should call `super().__init__(**kwargs)` in its constructor. `**kwargs` can include `workers`, `use_multiprocessing`, `max_queue_size`. Do not pass these arguments to `fit()`, as they will be ignored.\n",
            "  self._warn_if_super_not_called()\n"
          ]
        },
        {
          "output_type": "stream",
          "name": "stdout",
          "text": [
            "\u001b[1m225/225\u001b[0m \u001b[32m━━━━━━━━━━━━━━━━━━━━\u001b[0m\u001b[37m\u001b[0m \u001b[1m4s\u001b[0m 18ms/step - accuracy: 0.5417 - loss: 3.5294\n"
          ]
        },
        {
          "output_type": "execute_result",
          "data": {
            "text/plain": [
              "[3.4672789573669434, 0.5424909591674805]"
            ]
          },
          "metadata": {},
          "execution_count": 23
        }
      ]
    },
    {
      "cell_type": "code",
      "source": [
        "# Predict the classes for the test set\n",
        "Y_pred = model.predict(test_generator)\n",
        "\n",
        "# True labels\n",
        "Y_true = test_generator.classes\n",
        "\n",
        "# Generate confusion matrix\n",
        "cm = confusion_matrix(Y_true, Y_pred.argmax(axis=1))\n",
        "\n",
        "# Plot confusion matrix using seaborn\n",
        "plt.figure(figsize=(11, 7))\n",
        "sns.heatmap(cm, annot=True, fmt='d', cmap='Blues', xticklabels=Classes, yticklabels=Classes)\n",
        "plt.xlabel('Predicted Label')\n",
        "plt.ylabel('True Label')\n",
        "plt.title('Confusion Matrix')\n",
        "plt.show()"
      ],
      "metadata": {
        "id": "c3n6UHCcYhPQ"
      },
      "execution_count": null,
      "outputs": []
    },
    {
      "cell_type": "markdown",
      "source": [
        "# **Weights**"
      ],
      "metadata": {
        "id": "_-6LL610PAEP"
      }
    },
    {
      "cell_type": "code",
      "source": [
        "from sklearn.utils import class_weight\n",
        "\n",
        "# Calculate class weights\n",
        "class_weights = class_weight.compute_class_weight(\n",
        "    'balanced',\n",
        "    classes=np.unique(Y_train),\n",
        "    y=Y_train\n",
        ")\n",
        "\n",
        "class_weights_dict = dict(enumerate(class_weights))\n",
        "\n",
        "# Print class weights for inspection\n",
        "print(\"Class weights:\", class_weights_dict)"
      ],
      "metadata": {
        "colab": {
          "base_uri": "https://localhost:8080/"
        },
        "id": "R3O194LLl0AL",
        "outputId": "cf62928b-8cfd-4992-da21-89ee26cb6511"
      },
      "execution_count": null,
      "outputs": [
        {
          "output_type": "stream",
          "name": "stdout",
          "text": [
            "Class weights: {0: 1.0067405685678528, 1: 1.1530758519003932, 2: 0.9816764880225949, 3: 1.114879714879715, 4: 0.810056107034959, 5: 0.8326974267968057, 6: 1.2683470739289093}\n"
          ]
        }
      ]
    },
    {
      "cell_type": "markdown",
      "source": [
        "#**Train + Test XY**"
      ],
      "metadata": {
        "id": "8qvKJlovMPyl"
      }
    },
    {
      "cell_type": "code",
      "source": [
        "model.fit(X_train, Y_train, epochs=30, shuffle=True)"
      ],
      "metadata": {
        "id": "NOkI-NgxMK9T",
        "colab": {
          "base_uri": "https://localhost:8080/"
        },
        "outputId": "a181bb0c-6674-49c7-c2b1-1f093df15ffc"
      },
      "execution_count": null,
      "outputs": [
        {
          "output_type": "stream",
          "name": "stdout",
          "text": [
            "Epoch 1/30\n",
            "\u001b[1m718/718\u001b[0m \u001b[32m━━━━━━━━━━━━━━━━━━━━\u001b[0m\u001b[37m\u001b[0m \u001b[1m41s\u001b[0m 37ms/step - accuracy: 0.2221 - loss: 2.0299\n",
            "Epoch 2/30\n",
            "\u001b[1m718/718\u001b[0m \u001b[32m━━━━━━━━━━━━━━━━━━━━\u001b[0m\u001b[37m\u001b[0m \u001b[1m20s\u001b[0m 27ms/step - accuracy: 0.2991 - loss: 1.7534\n",
            "Epoch 3/30\n",
            "\u001b[1m718/718\u001b[0m \u001b[32m━━━━━━━━━━━━━━━━━━━━\u001b[0m\u001b[37m\u001b[0m \u001b[1m20s\u001b[0m 27ms/step - accuracy: 0.4141 - loss: 1.5137\n",
            "Epoch 4/30\n",
            "\u001b[1m718/718\u001b[0m \u001b[32m━━━━━━━━━━━━━━━━━━━━\u001b[0m\u001b[37m\u001b[0m \u001b[1m20s\u001b[0m 28ms/step - accuracy: 0.4724 - loss: 1.3810\n",
            "Epoch 5/30\n",
            "\u001b[1m718/718\u001b[0m \u001b[32m━━━━━━━━━━━━━━━━━━━━\u001b[0m\u001b[37m\u001b[0m \u001b[1m19s\u001b[0m 27ms/step - accuracy: 0.5062 - loss: 1.3095\n",
            "Epoch 6/30\n",
            "\u001b[1m718/718\u001b[0m \u001b[32m━━━━━━━━━━━━━━━━━━━━\u001b[0m\u001b[37m\u001b[0m \u001b[1m19s\u001b[0m 27ms/step - accuracy: 0.5356 - loss: 1.2343\n",
            "Epoch 7/30\n",
            "\u001b[1m718/718\u001b[0m \u001b[32m━━━━━━━━━━━━━━━━━━━━\u001b[0m\u001b[37m\u001b[0m \u001b[1m20s\u001b[0m 28ms/step - accuracy: 0.5570 - loss: 1.1843\n",
            "Epoch 8/30\n",
            "\u001b[1m718/718\u001b[0m \u001b[32m━━━━━━━━━━━━━━━━━━━━\u001b[0m\u001b[37m\u001b[0m \u001b[1m19s\u001b[0m 27ms/step - accuracy: 0.5863 - loss: 1.1122\n",
            "Epoch 9/30\n",
            "\u001b[1m718/718\u001b[0m \u001b[32m━━━━━━━━━━━━━━━━━━━━\u001b[0m\u001b[37m\u001b[0m \u001b[1m20s\u001b[0m 27ms/step - accuracy: 0.6182 - loss: 1.0312\n",
            "Epoch 10/30\n",
            "\u001b[1m718/718\u001b[0m \u001b[32m━━━━━━━━━━━━━━━━━━━━\u001b[0m\u001b[37m\u001b[0m \u001b[1m19s\u001b[0m 27ms/step - accuracy: 0.6387 - loss: 0.9780\n",
            "Epoch 11/30\n",
            "\u001b[1m718/718\u001b[0m \u001b[32m━━━━━━━━━━━━━━━━━━━━\u001b[0m\u001b[37m\u001b[0m \u001b[1m20s\u001b[0m 27ms/step - accuracy: 0.6804 - loss: 0.8934\n",
            "Epoch 12/30\n",
            "\u001b[1m718/718\u001b[0m \u001b[32m━━━━━━━━━━━━━━━━━━━━\u001b[0m\u001b[37m\u001b[0m \u001b[1m19s\u001b[0m 27ms/step - accuracy: 0.7109 - loss: 0.8070\n",
            "Epoch 13/30\n",
            "\u001b[1m718/718\u001b[0m \u001b[32m━━━━━━━━━━━━━━━━━━━━\u001b[0m\u001b[37m\u001b[0m \u001b[1m19s\u001b[0m 27ms/step - accuracy: 0.7362 - loss: 0.7409\n",
            "Epoch 14/30\n",
            "\u001b[1m718/718\u001b[0m \u001b[32m━━━━━━━━━━━━━━━━━━━━\u001b[0m\u001b[37m\u001b[0m \u001b[1m19s\u001b[0m 27ms/step - accuracy: 0.7648 - loss: 0.6758\n",
            "Epoch 15/30\n",
            "\u001b[1m718/718\u001b[0m \u001b[32m━━━━━━━━━━━━━━━━━━━━\u001b[0m\u001b[37m\u001b[0m \u001b[1m19s\u001b[0m 27ms/step - accuracy: 0.7892 - loss: 0.5990\n",
            "Epoch 16/30\n",
            "\u001b[1m718/718\u001b[0m \u001b[32m━━━━━━━━━━━━━━━━━━━━\u001b[0m\u001b[37m\u001b[0m \u001b[1m19s\u001b[0m 27ms/step - accuracy: 0.8154 - loss: 0.5377\n",
            "Epoch 17/30\n",
            "\u001b[1m718/718\u001b[0m \u001b[32m━━━━━━━━━━━━━━━━━━━━\u001b[0m\u001b[37m\u001b[0m \u001b[1m19s\u001b[0m 27ms/step - accuracy: 0.8403 - loss: 0.4682\n",
            "Epoch 18/30\n",
            "\u001b[1m718/718\u001b[0m \u001b[32m━━━━━━━━━━━━━━━━━━━━\u001b[0m\u001b[37m\u001b[0m \u001b[1m20s\u001b[0m 27ms/step - accuracy: 0.8596 - loss: 0.4200\n",
            "Epoch 19/30\n",
            "\u001b[1m718/718\u001b[0m \u001b[32m━━━━━━━━━━━━━━━━━━━━\u001b[0m\u001b[37m\u001b[0m \u001b[1m19s\u001b[0m 27ms/step - accuracy: 0.8716 - loss: 0.3840\n",
            "Epoch 20/30\n",
            "\u001b[1m718/718\u001b[0m \u001b[32m━━━━━━━━━━━━━━━━━━━━\u001b[0m\u001b[37m\u001b[0m \u001b[1m19s\u001b[0m 27ms/step - accuracy: 0.8825 - loss: 0.3503\n",
            "Epoch 21/30\n",
            "\u001b[1m718/718\u001b[0m \u001b[32m━━━━━━━━━━━━━━━━━━━━\u001b[0m\u001b[37m\u001b[0m \u001b[1m19s\u001b[0m 27ms/step - accuracy: 0.9036 - loss: 0.2973\n",
            "Epoch 22/30\n",
            "\u001b[1m718/718\u001b[0m \u001b[32m━━━━━━━━━━━━━━━━━━━━\u001b[0m\u001b[37m\u001b[0m \u001b[1m20s\u001b[0m 27ms/step - accuracy: 0.9058 - loss: 0.2920\n",
            "Epoch 23/30\n",
            "\u001b[1m718/718\u001b[0m \u001b[32m━━━━━━━━━━━━━━━━━━━━\u001b[0m\u001b[37m\u001b[0m \u001b[1m21s\u001b[0m 27ms/step - accuracy: 0.9135 - loss: 0.2789\n",
            "Epoch 24/30\n",
            "\u001b[1m718/718\u001b[0m \u001b[32m━━━━━━━━━━━━━━━━━━━━\u001b[0m\u001b[37m\u001b[0m \u001b[1m19s\u001b[0m 27ms/step - accuracy: 0.9166 - loss: 0.2678\n",
            "Epoch 25/30\n",
            "\u001b[1m718/718\u001b[0m \u001b[32m━━━━━━━━━━━━━━━━━━━━\u001b[0m\u001b[37m\u001b[0m \u001b[1m20s\u001b[0m 27ms/step - accuracy: 0.9244 - loss: 0.2339\n",
            "Epoch 26/30\n",
            "\u001b[1m718/718\u001b[0m \u001b[32m━━━━━━━━━━━━━━━━━━━━\u001b[0m\u001b[37m\u001b[0m \u001b[1m20s\u001b[0m 27ms/step - accuracy: 0.9275 - loss: 0.2370\n",
            "Epoch 27/30\n",
            "\u001b[1m718/718\u001b[0m \u001b[32m━━━━━━━━━━━━━━━━━━━━\u001b[0m\u001b[37m\u001b[0m \u001b[1m22s\u001b[0m 31ms/step - accuracy: 0.9324 - loss: 0.2170\n",
            "Epoch 28/30\n",
            "\u001b[1m718/718\u001b[0m \u001b[32m━━━━━━━━━━━━━━━━━━━━\u001b[0m\u001b[37m\u001b[0m \u001b[1m20s\u001b[0m 27ms/step - accuracy: 0.9351 - loss: 0.2150\n",
            "Epoch 29/30\n",
            "\u001b[1m718/718\u001b[0m \u001b[32m━━━━━━━━━━━━━━━━━━━━\u001b[0m\u001b[37m\u001b[0m \u001b[1m19s\u001b[0m 27ms/step - accuracy: 0.9401 - loss: 0.2024\n",
            "Epoch 30/30\n",
            "\u001b[1m718/718\u001b[0m \u001b[32m━━━━━━━━━━━━━━━━━━━━\u001b[0m\u001b[37m\u001b[0m \u001b[1m19s\u001b[0m 27ms/step - accuracy: 0.9416 - loss: 0.2029\n"
          ]
        },
        {
          "output_type": "execute_result",
          "data": {
            "text/plain": [
              "<keras.src.callbacks.history.History at 0x7b7de70419f0>"
            ]
          },
          "metadata": {},
          "execution_count": 48
        }
      ]
    },
    {
      "cell_type": "code",
      "source": [
        "model.fit(X_train, Y_train, epochs=30, class_weight=class_weights_dict, shuffle=True)"
      ],
      "metadata": {
        "id": "rfDqwCjPQo8y",
        "collapsed": true
      },
      "execution_count": null,
      "outputs": []
    },
    {
      "cell_type": "code",
      "source": [
        "model.fit(X_train, Y_train, epochs=30, validation_data=(X_val, Y_val), class_weight=class_weights_dict, shuffle=True)"
      ],
      "metadata": {
        "id": "MfzcYgNyBKk3",
        "collapsed": true
      },
      "execution_count": null,
      "outputs": []
    },
    {
      "cell_type": "markdown",
      "source": [
        "###**Testing**"
      ],
      "metadata": {
        "id": "Ffmc_N4DMWzj"
      }
    },
    {
      "cell_type": "code",
      "source": [
        "model.evaluate(X_test, Y_test)"
      ],
      "metadata": {
        "id": "S9E3NC6eG8d_",
        "colab": {
          "base_uri": "https://localhost:8080/"
        },
        "outputId": "0ec7714a-e124-4722-9385-9c27a446676f"
      },
      "execution_count": null,
      "outputs": [
        {
          "output_type": "stream",
          "name": "stdout",
          "text": [
            "\u001b[1m225/225\u001b[0m \u001b[32m━━━━━━━━━━━━━━━━━━━━\u001b[0m\u001b[37m\u001b[0m \u001b[1m3s\u001b[0m 11ms/step - accuracy: 0.6041 - loss: 1.9474\n"
          ]
        },
        {
          "output_type": "execute_result",
          "data": {
            "text/plain": [
              "[1.8615436553955078, 0.6188353300094604]"
            ]
          },
          "metadata": {},
          "execution_count": 49
        }
      ]
    },
    {
      "cell_type": "code",
      "source": [
        "y_pred = model.predict(X_test)\n",
        "\n",
        "cm = confusion_matrix(Y_test, y_pred.argmax(axis=1))\n",
        "\n",
        "plt.figure(figsize=(11,7))\n",
        "sns.heatmap(cm, annot=True, fmt='d', cmap='Purples', xticklabels=Classes, yticklabels=Classes)\n",
        "plt.xlabel('Predicted Emotion')\n",
        "plt.ylabel('True Emotion')\n",
        "plt.title('Confusion Matrix')\n",
        "plt.show()"
      ],
      "metadata": {
        "colab": {
          "base_uri": "https://localhost:8080/",
          "height": 658
        },
        "id": "8p7uY4BqJ1e0",
        "outputId": "f5ecabc5-3c89-46ea-af33-5f0e01b4cd6a"
      },
      "execution_count": null,
      "outputs": [
        {
          "output_type": "stream",
          "name": "stdout",
          "text": [
            "\u001b[1m225/225\u001b[0m \u001b[32m━━━━━━━━━━━━━━━━━━━━\u001b[0m\u001b[37m\u001b[0m \u001b[1m3s\u001b[0m 10ms/step\n"
          ]
        },
        {
          "output_type": "display_data",
          "data": {
            "text/plain": [
              "<Figure size 1100x700 with 2 Axes>"
            ],
            "image/png": "[encoded data removed]"
          },
          "metadata": {}
        }
      ]
    },
    {
      "cell_type": "code",
      "source": [
        "print(np.bincount(Y_test))"
      ],
      "metadata": {
        "colab": {
          "base_uri": "https://localhost:8080/"
        },
        "id": "bcaUn9ogKiF_",
        "outputId": "8a29f378-3862-4523-8f80-32aa51a32bae"
      },
      "execution_count": null,
      "outputs": [
        {
          "output_type": "stream",
          "name": "stdout",
          "text": [
            "[ 958  111 1024 1774 1233 1247  831]\n"
          ]
        }
      ]
    },
    {
      "cell_type": "markdown",
      "source": [
        "#**Save Model**"
      ],
      "metadata": {
        "id": "N1w-zgu5Mleb"
      }
    },
    {
      "cell_type": "code",
      "source": [
        "model.save('seqfermodel3.h5')"
      ],
      "metadata": {
        "id": "Zh-N3sqEYyPT",
        "colab": {
          "base_uri": "https://localhost:8080/"
        },
        "outputId": "3ffded71-d62a-4ceb-c1e3-50acffe192fb"
      },
      "execution_count": null,
      "outputs": [
        {
          "output_type": "stream",
          "name": "stderr",
          "text": [
            "/usr/local/lib/python3.10/dist-packages/keras/src/engine/training.py:3103: UserWarning: You are saving your model as an HDF5 file via `model.save()`. This file format is considered legacy. We recommend using instead the native Keras format, e.g. `model.save('my_model.keras')`.\n",
            "  saving_api.save_model(\n"
          ]
        }
      ]
    },
    {
      "cell_type": "code",
      "source": [
        "model = keras.models.load_model('seqfermodel3.h5')"
      ],
      "metadata": {
        "id": "LqcRbAw5Y2ow"
      },
      "execution_count": null,
      "outputs": []
    },
    {
      "cell_type": "markdown",
      "source": [
        "#**Notes**"
      ],
      "metadata": {
        "id": "4y3NrDUKMeBF"
      }
    },
    {
      "cell_type": "markdown",
      "source": [
        "Model Run with 2 Categories - Happy/Sad.\n",
        "\n",
        "*   Training Data Accuracy: 95%+\n",
        "*   Test Data Accuracy: 86%\n",
        "*   Training Data Size: 12045\n",
        "*   Test Data Size: 3021\n",
        "\n",
        "Model Run with 3 Categories - Happy/Sad/Neutral.\n",
        "\n",
        "*   Training Data Accuracy: 97%+\n",
        "*   Test Data Accuracy: 69%\n",
        "*   Training Data Size: 17010\n",
        "*   Test Data Size: 4254\n",
        "\n",
        "Model Run with 3 Categories - Happy/Sad/Angry.\n",
        "\n",
        "*   Training Data Accuracy: 98%+\n",
        "*   Test Data Accuracy: 72%\n",
        "*   Training Data Size: 16040\n",
        "*   Test Data Size: 3979\n",
        "\n",
        "Model Run with 3 Categories that are lower in dataset size- Surprise/Fear/Disgust.\n",
        "\n",
        "*   Training Data Accuracy: 98%\n",
        "*   Test Data Accuracy: 79%\n",
        "*   Training Data Size: 7704\n",
        "*   Test Data Size: 1966\n",
        "\n",
        "Model Run with 3 Categories that are similar in visual style (Sad/Fear/Angry)\n",
        "\n",
        "*   Training Data Accuracy: 97%\n",
        "*   Test Data Accuracy: 54%\n",
        "*   Training Data Size: 12922\n",
        "*   Test Data Size: 3229\n",
        "\n",
        "\n",
        "Model Run with All Categories.\n",
        "\n",
        "*   Training Data Accuracy: 94%+\n",
        "*   Test Data Accuracy: 60%\n",
        "*   Training Data Size: 28709\n",
        "*   Test Data Size: 7178\n",
        "\n",
        "EfficientNet80 Model Run with All Categories.\n",
        "\n",
        "*   Training Data Accuracy: 95%+\n",
        "*   Test Data Accuracy: 60%\n",
        "*   Training Data Size: 28709\n",
        "*   Test Data Size: 7178\n",
        "\n",
        "\n",
        "Key notes:\n",
        "* Additional training data DID improve model performance. When we switched from the modified dataset to the original, test data performance improved.\n",
        "\n",
        "* Image fidelity may play a role, where nuances in expression may not be detectible in a small image space of 48x48. Larger images require significantly more compute time on GPUs and it is always a balance\n",
        "\n",
        "* Initial theory was that smaller datasets in categories such as Surprise, Fear and Disgust were a key driver in lower model performance in aggregate. However, on further research, these categories performed quite well (see Surprise/Fear/Disgust metric). We found the model performance is higher when a /smaller/ number of categories were included and is lower when including more categories.\n",
        "\n",
        "* Theory: A small number of classifications (e.g. 3) can be performed with high accuracy. When a larger number of classifications are included, the overall model accuracy drops. It is easier to distinguish Happy/Sad vs a larger number of possibilieid, e.g. (Happy/Surprised/Surprised/Angry) within one model.\n",
        "\n",
        "* Images with similar emotion visualizations (Sad, Angry, and Fearful all may have a frowning aspect) do have low test accuracy. 54% in this case. This points to the challenges in categorizing nuanced differences, while highlighting the relatively strong performance of categorizing emotions that are more visually distinct (Happy/Sad)\n",
        "\n",
        "* The \"Truthfulness\" of the images should be considered, and data labeling biases may exist. What may be considered Neutral to some may look Angry to others.\n"
      ],
      "metadata": {
        "id": "P3Fr86i9Fq3Y"
      }
    }
  ]
}