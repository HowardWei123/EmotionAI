{
  "nbformat": 4,
  "nbformat_minor": 0,
  "metadata": {
    "colab": {
      "provenance": [],
      "gpuType": "T4"
    },
    "kernelspec": {
      "name": "python3",
      "display_name": "Python 3"
    },
    "language_info": {
      "name": "python"
    },
    "accelerator": "GPU"
  },
  "cells": [
    {
      "cell_type": "markdown",
      "source": [
        "# **Dependencies**"
      ],
      "metadata": {
        "id": "DkJ09vzkW5Jx"
      }
    },
    {
      "cell_type": "code",
      "execution_count": 1,
      "metadata": {
        "id": "ZqkEZvrD_R3j"
      },
      "outputs": [],
      "source": [
        "import tensorflow as tf\n",
        "\n",
        "from tensorflow import keras\n",
        "from keras import layers\n",
        "from keras.models import Sequential\n",
        "\n",
        "import cv2\n",
        "import os\n",
        "\n",
        "from sklearn.metrics import confusion_matrix\n",
        "import matplotlib.pyplot as plt\n",
        "import seaborn as sns\n",
        "import numpy as np"
      ]
    },
    {
      "cell_type": "code",
      "source": [
        "#!unzip /content/FER_2013_80-20_Dataset.zip\n",
        "!unzip /content/FER-2013-Full.zip"
      ],
      "metadata": {
        "id": "TZ9J3tNNBdeq"
      },
      "execution_count": null,
      "outputs": []
    },
    {
      "cell_type": "markdown",
      "source": [
        "# **Test**"
      ],
      "metadata": {
        "id": "66AOxaXrWwkO"
      }
    },
    {
      "cell_type": "markdown",
      "source": [
        "Original Data: https://www.kaggle.com/datasets/msambare/fer2013/data"
      ],
      "metadata": {
        "id": "UDo_UtFmVpqm"
      }
    },
    {
      "cell_type": "code",
      "source": [
        "# img_array = cv2.imread(\"/content/FER2013Dataset/train/surprise/Training_72717626.jpg\")\n",
        "img_array = cv2.imread(\"/content/train/surprise/Training_72717626.jpg\")\n",
        "img_array.shape"
      ],
      "metadata": {
        "id": "hPkM5o5LOelM",
        "colab": {
          "base_uri": "https://localhost:8080/"
        },
        "outputId": "115a0a52-1833-4913-99dc-784025237fc3"
      },
      "execution_count": 3,
      "outputs": [
        {
          "output_type": "execute_result",
          "data": {
            "text/plain": [
              "(48, 48, 3)"
            ]
          },
          "metadata": {},
          "execution_count": 3
        }
      ]
    },
    {
      "cell_type": "code",
      "source": [
        "plt.axis('off')\n",
        "plt.imshow(img_array)"
      ],
      "metadata": {
        "id": "X7HhPUk5OizB",
        "colab": {
          "base_uri": "https://localhost:8080/",
          "height": 423
        },
        "outputId": "5bc356bb-6587-45ae-d68b-df1ee6b4f0a2"
      },
      "execution_count": 4,
      "outputs": [
        {
          "output_type": "execute_result",
          "data": {
            "text/plain": [
              "<matplotlib.image.AxesImage at 0x7f3986135f30>"
            ]
          },
          "metadata": {},
          "execution_count": 4
        },
        {
          "output_type": "display_data",
          "data": {
            "text/plain": [
              "<Figure size 640x480 with 1 Axes>"
            ],
            "image/png": "[encoded data removed]"
          },
          "metadata": {}
        }
      ]
    },
    {
      "cell_type": "markdown",
      "source": [
        "# **Data**"
      ],
      "metadata": {
        "id": "0kb7-d27WS7q"
      }
    },
    {
      "cell_type": "markdown",
      "source": [
        "**Original Train**: [angry: 3995, disgust: 436, fear: 4097, happy: 7215, neutral: 4965, sad: 4830, surprise: 3171]\n",
        "\n",
        "**Modified Train**: [anger: 2000, disgust: 436, fear: 2000, happy: 2000, neutral: 2000, sad: 2000, surprise: 2000]\n",
        "\n",
        "**Original Test**: [angry: 958, disgust: 111, fear: 1024, happy: 1774, neutral: 1233, sad: 1247, surprise: 831]\n",
        "\n",
        "**Modified Test**: [anger: 500, disgust: 111, fear: 500, happy: 500, neutral: 500, sad: 500, surprise: 500]"
      ],
      "metadata": {
        "id": "gPbBuXGsS-6c"
      }
    },
    {
      "cell_type": "code",
      "source": [
        "# Classes = ['angry','disgust','fear','happy','neutral','sad','surprise']\n",
        "# Classes = ['happy', 'sad']\n",
        "# Classes = ['happy', 'sad', 'neutral']\n",
        "Classes = ['happy', 'sad', 'angry']\n",
        "#Classes = ['surprise', 'fear', 'disgust']\n",
        "#Classes = ['sad', 'fear', 'angry']"
      ],
      "metadata": {
        "id": "_se06dYgOmzV"
      },
      "execution_count": 5,
      "outputs": []
    },
    {
      "cell_type": "markdown",
      "source": [
        "## **Read all images, resize, and convert into arrays**"
      ],
      "metadata": {
        "id": "8cMO56QZOpqY"
      }
    },
    {
      "cell_type": "code",
      "source": [
        "def create_data( data, Datadirectory ):\n",
        "  for category in Classes:\n",
        "    path = os.path.join(Datadirectory, category)\n",
        "    class_num = Classes.index(category)\n",
        "    for img in os.listdir(path):\n",
        "      try:\n",
        "        img_array = cv2.imread(os.path.join(path,img) )\n",
        "        #img_array = cv2.resize(img_array, (48, 48) )\n",
        "        data.append( [img_array, class_num] )\n",
        "      except Exception as e:\n",
        "        pass"
      ],
      "metadata": {
        "id": "JosBRNfHOtVc"
      },
      "execution_count": 6,
      "outputs": []
    },
    {
      "cell_type": "code",
      "source": [
        "training_data = []\n",
        "# Datadirectory = \"/content/FER2013Dataset/train\"\n",
        "Datadirectory = \"/content/train\"\n",
        "create_data(training_data, Datadirectory)"
      ],
      "metadata": {
        "id": "0V1OOK_jOvaN"
      },
      "execution_count": 7,
      "outputs": []
    },
    {
      "cell_type": "code",
      "source": [
        "testing_data = []\n",
        "# Datadirectory = \"/content/FER2013Dataset/test\"\n",
        "Datadirectory = \"/content/test\"\n",
        "create_data(testing_data, Datadirectory)"
      ],
      "metadata": {
        "id": "j9EXW8Zl4kmC"
      },
      "execution_count": 8,
      "outputs": []
    },
    {
      "cell_type": "code",
      "source": [
        "print( len(training_data) )\n",
        "print( len(testing_data) )"
      ],
      "metadata": {
        "id": "w31Bj1BhOwsZ",
        "colab": {
          "base_uri": "https://localhost:8080/"
        },
        "outputId": "bfeb4948-2a2a-4e09-9d34-5d4c3d780907"
      },
      "execution_count": 9,
      "outputs": [
        {
          "output_type": "stream",
          "name": "stdout",
          "text": [
            "16040\n",
            "3979\n"
          ]
        }
      ]
    },
    {
      "cell_type": "markdown",
      "source": [
        "## **Create Training and Testing Data Arrays**"
      ],
      "metadata": {
        "id": "tOhx6wpjWchu"
      }
    },
    {
      "cell_type": "code",
      "source": [
        "import random\n",
        "\n",
        "random.shuffle(training_data)\n",
        "random.shuffle(testing_data)"
      ],
      "metadata": {
        "id": "sDTp1GvXOx_P"
      },
      "execution_count": 10,
      "outputs": []
    },
    {
      "cell_type": "code",
      "source": [
        "def create_train_test(data, x, y):\n",
        "  for features, label in data:\n",
        "    x.append(features)\n",
        "    y.append(label)"
      ],
      "metadata": {
        "id": "N5Y2szuuO0gF"
      },
      "execution_count": 11,
      "outputs": []
    },
    {
      "cell_type": "code",
      "source": [
        "x_train = []\n",
        "y_train = []\n",
        "\n",
        "x_test = []\n",
        "y_test = []\n",
        "\n",
        "create_train_test(training_data, x_train, y_train)\n",
        "create_train_test(testing_data, x_test, y_test)"
      ],
      "metadata": {
        "id": "fUi84cSiFCaq"
      },
      "execution_count": 12,
      "outputs": []
    },
    {
      "cell_type": "code",
      "source": [
        "X_train = np.array(x_train).reshape(-1, 48, 48, 3)\n",
        "Y_train = np.array(y_train)\n",
        "\n",
        "X_test = np.array(x_test).reshape(-1, 48, 48, 3)\n",
        "Y_test = np.array(y_test)"
      ],
      "metadata": {
        "id": "1sIapTesO2mT"
      },
      "execution_count": 13,
      "outputs": []
    },
    {
      "cell_type": "code",
      "source": [
        "X_train = X_train / 255.0\n",
        "X_test = X_test / 255.0"
      ],
      "metadata": {
        "id": "5X6qHu7UO3uj"
      },
      "execution_count": 14,
      "outputs": []
    },
    {
      "cell_type": "markdown",
      "source": [
        "# **Model Training and Testing**"
      ],
      "metadata": {
        "id": "_-6LL610PAEP"
      }
    },
    {
      "cell_type": "code",
      "source": [
        "model = Sequential([\n",
        "    layers.Conv2D(16, 3, padding='same', activation='relu'),\n",
        "    layers.MaxPooling2D(),\n",
        "    layers.Conv2D(32, 3, padding='same', activation='relu'),\n",
        "    layers.MaxPooling2D(),\n",
        "    layers.Conv2D(64, 3, padding='same', activation='relu'),\n",
        "    layers.MaxPooling2D(),\n",
        "    layers.Flatten(),\n",
        "    layers.Dense(128, activation='relu'),\n",
        "    layers.Dropout(0.1),\n",
        "    layers.Dense(7, activation='softmax')\n",
        "   ])"
      ],
      "metadata": {
        "id": "dL4G3hpC-yDq"
      },
      "execution_count": 15,
      "outputs": []
    },
    {
      "cell_type": "code",
      "source": [
        "model.compile(\n",
        "    optimizer='adam',\n",
        "    loss='sparse_categorical_crossentropy',\n",
        "    metrics=['accuracy']\n",
        "    )"
      ],
      "metadata": {
        "id": "TjcVRQwvAxZV"
      },
      "execution_count": 16,
      "outputs": []
    },
    {
      "cell_type": "code",
      "source": [
        "model.fit(X_train, Y_train, epochs=30)"
      ],
      "metadata": {
        "id": "MfzcYgNyBKk3",
        "colab": {
          "base_uri": "https://localhost:8080/"
        },
        "outputId": "7d2452d7-916e-42d5-f2c0-3c839d50c471"
      },
      "execution_count": 17,
      "outputs": [
        {
          "output_type": "stream",
          "name": "stdout",
          "text": [
            "Epoch 1/30\n",
            "502/502 [==============================] - 8s 5ms/step - loss: 0.9831 - accuracy: 0.5217\n",
            "Epoch 2/30\n",
            "502/502 [==============================] - 3s 5ms/step - loss: 0.7797 - accuracy: 0.6427\n",
            "Epoch 3/30\n",
            "502/502 [==============================] - 2s 4ms/step - loss: 0.6931 - accuracy: 0.6878\n",
            "Epoch 4/30\n",
            "502/502 [==============================] - 2s 4ms/step - loss: 0.6316 - accuracy: 0.7239\n",
            "Epoch 5/30\n",
            "502/502 [==============================] - 2s 4ms/step - loss: 0.5774 - accuracy: 0.7511\n",
            "Epoch 6/30\n",
            "502/502 [==============================] - 2s 4ms/step - loss: 0.5259 - accuracy: 0.7787\n",
            "Epoch 7/30\n",
            "502/502 [==============================] - 2s 5ms/step - loss: 0.4671 - accuracy: 0.8053\n",
            "Epoch 8/30\n",
            "502/502 [==============================] - 3s 5ms/step - loss: 0.4092 - accuracy: 0.8335\n",
            "Epoch 9/30\n",
            "502/502 [==============================] - 2s 4ms/step - loss: 0.3512 - accuracy: 0.8575\n",
            "Epoch 10/30\n",
            "502/502 [==============================] - 2s 4ms/step - loss: 0.2899 - accuracy: 0.8839\n",
            "Epoch 11/30\n",
            "502/502 [==============================] - 2s 4ms/step - loss: 0.2399 - accuracy: 0.9084\n",
            "Epoch 12/30\n",
            "502/502 [==============================] - 2s 4ms/step - loss: 0.1944 - accuracy: 0.9263\n",
            "Epoch 13/30\n",
            "502/502 [==============================] - 3s 5ms/step - loss: 0.1552 - accuracy: 0.9433\n",
            "Epoch 14/30\n",
            "502/502 [==============================] - 2s 4ms/step - loss: 0.1357 - accuracy: 0.9500\n",
            "Epoch 15/30\n",
            "502/502 [==============================] - 2s 4ms/step - loss: 0.1129 - accuracy: 0.9595\n",
            "Epoch 16/30\n",
            "502/502 [==============================] - 2s 4ms/step - loss: 0.1077 - accuracy: 0.9618\n",
            "Epoch 17/30\n",
            "502/502 [==============================] - 2s 4ms/step - loss: 0.0828 - accuracy: 0.9701\n",
            "Epoch 18/30\n",
            "502/502 [==============================] - 2s 5ms/step - loss: 0.0794 - accuracy: 0.9707\n",
            "Epoch 19/30\n",
            "502/502 [==============================] - 3s 5ms/step - loss: 0.0756 - accuracy: 0.9739\n",
            "Epoch 20/30\n",
            "502/502 [==============================] - 2s 4ms/step - loss: 0.0654 - accuracy: 0.9766\n",
            "Epoch 21/30\n",
            "502/502 [==============================] - 2s 4ms/step - loss: 0.0790 - accuracy: 0.9714\n",
            "Epoch 22/30\n",
            "502/502 [==============================] - 2s 4ms/step - loss: 0.0636 - accuracy: 0.9781\n",
            "Epoch 23/30\n",
            "502/502 [==============================] - 2s 4ms/step - loss: 0.0629 - accuracy: 0.9785\n",
            "Epoch 24/30\n",
            "502/502 [==============================] - 3s 5ms/step - loss: 0.0631 - accuracy: 0.9779\n",
            "Epoch 25/30\n",
            "502/502 [==============================] - 2s 4ms/step - loss: 0.0540 - accuracy: 0.9804\n",
            "Epoch 26/30\n",
            "502/502 [==============================] - 2s 4ms/step - loss: 0.0531 - accuracy: 0.9811\n",
            "Epoch 27/30\n",
            "502/502 [==============================] - 2s 4ms/step - loss: 0.0498 - accuracy: 0.9833\n",
            "Epoch 28/30\n",
            "502/502 [==============================] - 2s 4ms/step - loss: 0.0518 - accuracy: 0.9821\n",
            "Epoch 29/30\n",
            "502/502 [==============================] - 2s 5ms/step - loss: 0.0559 - accuracy: 0.9803\n",
            "Epoch 30/30\n",
            "502/502 [==============================] - 3s 5ms/step - loss: 0.0511 - accuracy: 0.9824\n"
          ]
        },
        {
          "output_type": "execute_result",
          "data": {
            "text/plain": [
              "<keras.src.callbacks.History at 0x7f398331ed10>"
            ]
          },
          "metadata": {},
          "execution_count": 17
        }
      ]
    },
    {
      "cell_type": "code",
      "source": [
        "model.evaluate(X_test, Y_test)"
      ],
      "metadata": {
        "id": "S9E3NC6eG8d_",
        "colab": {
          "base_uri": "https://localhost:8080/"
        },
        "outputId": "5ef54706-b713-47ca-b884-67acc749b18a"
      },
      "execution_count": 18,
      "outputs": [
        {
          "output_type": "stream",
          "name": "stdout",
          "text": [
            "125/125 [==============================] - 1s 4ms/step - loss: 1.7324 - accuracy: 0.7188\n"
          ]
        },
        {
          "output_type": "execute_result",
          "data": {
            "text/plain": [
              "[1.7323920726776123, 0.7187735438346863]"
            ]
          },
          "metadata": {},
          "execution_count": 18
        }
      ]
    },
    {
      "cell_type": "code",
      "source": [
        "emotions = ['Happy', 'Sad','Angry']\n",
        "\n",
        "y_train = np.array(y_train)\n",
        "y_test = np.array(y_test)\n",
        "\n",
        "\n",
        "model.fit(X_train, y_train)\n",
        "y_pred = model.predict(X_test)\n",
        "\n",
        "\n",
        "cm = confusion_matrix(y_test, y_pred.argmax(axis=1))\n",
        "\n",
        "\n",
        "plt.figure(figsize=(11,7))\n",
        "sns.heatmap(cm, annot=True, fmt='d', cmap='Purples', xticklabels=emotions, yticklabels=emotions)\n",
        "plt.xlabel('Predicted Emotion')\n",
        "plt.ylabel('True Emotion')\n",
        "plt.title('Confusion Matrix')\n",
        "plt.show()"
      ],
      "metadata": {
        "colab": {
          "base_uri": "https://localhost:8080/",
          "height": 676
        },
        "id": "8p7uY4BqJ1e0",
        "outputId": "7b0b5055-5d31-4776-8ee2-2067996d83af"
      },
      "execution_count": 19,
      "outputs": [
        {
          "output_type": "stream",
          "name": "stdout",
          "text": [
            "502/502 [==============================] - 3s 7ms/step - loss: 0.0473 - accuracy: 0.9832\n",
            "125/125 [==============================] - 1s 3ms/step\n"
          ]
        },
        {
          "output_type": "display_data",
          "data": {
            "text/plain": [
              "<Figure size 1100x700 with 2 Axes>"
            ],
            "image/png": "[encoded data removed]"
          },
          "metadata": {}
        }
      ]
    },
    {
      "cell_type": "code",
      "source": [
        "model.save('seqfermodel3.h5')"
      ],
      "metadata": {
        "id": "Zh-N3sqEYyPT",
        "colab": {
          "base_uri": "https://localhost:8080/"
        },
        "outputId": "3ffded71-d62a-4ceb-c1e3-50acffe192fb"
      },
      "execution_count": 20,
      "outputs": [
        {
          "output_type": "stream",
          "name": "stderr",
          "text": [
            "/usr/local/lib/python3.10/dist-packages/keras/src/engine/training.py:3103: UserWarning: You are saving your model as an HDF5 file via `model.save()`. This file format is considered legacy. We recommend using instead the native Keras format, e.g. `model.save('my_model.keras')`.\n",
            "  saving_api.save_model(\n"
          ]
        }
      ]
    },
    {
      "cell_type": "code",
      "source": [
        "model = keras.models.load_model('seqfermodel3.h5')"
      ],
      "metadata": {
        "id": "LqcRbAw5Y2ow"
      },
      "execution_count": 21,
      "outputs": []
    },
    {
      "cell_type": "markdown",
      "source": [
        "Model Run with 2 Categories - Happy/Sad.\n",
        "\n",
        "*   Training Data Accuracy: 95%+\n",
        "*   Test Data Accuracy: 86%\n",
        "*   Training Data Size: 12045\n",
        "*   Test Data Size: 3021\n",
        "\n",
        "Model Run with 3 Categories - Happy/Sad/Neutral.\n",
        "\n",
        "*   Training Data Accuracy: 97%+\n",
        "*   Test Data Accuracy: 69%\n",
        "*   Training Data Size: 17010\n",
        "*   Test Data Size: 4254\n",
        "\n",
        "Model Run with 3 Categories - Happy/Sad/Angry.\n",
        "\n",
        "*   Training Data Accuracy: 98%+\n",
        "*   Test Data Accuracy: 72%\n",
        "*   Training Data Size: 16040\n",
        "*   Test Data Size: 3979\n",
        "\n",
        "Model Run with 3 Categories that are lower in dataset size- Surprise/Fear/Disgust.\n",
        "\n",
        "*   Training Data Accuracy: 98%\n",
        "*   Test Data Accuracy: 79%\n",
        "*   Training Data Size: 7704\n",
        "*   Test Data Size: 1966\n",
        "\n",
        "Model Run with 3 Categories that are similar in visual style (Sad/Fear/Angry)\n",
        "\n",
        "*   Training Data Accuracy: 97%\n",
        "*   Test Data Accuracy: 54%\n",
        "*   Training Data Size: 12922\n",
        "*   Test Data Size: 3229\n",
        "\n",
        "\n",
        "Model Run with All Categories.\n",
        "\n",
        "*   Training Data Accuracy: 93%+\n",
        "*   Test Data Accuracy:  53.4%\n",
        "*   Training Data Size: 28709\n",
        "*   Test Data Size: 7178\n",
        "\n",
        "\n",
        "Key notes:\n",
        "* Additional training data DID improve model performance. When we switched from the modified dataset to the original, test data performance improved\n",
        "\n",
        "* Pixel modification reduced performance. changing from 48x48 to 180x180 reduced the test data accuracy, as well as made the model take longer. The 180x180 model consumed around 64GB of memory. The 48x48 model consumed approximately 35GB, running on Google Colab TPU with Python3\n",
        "\n",
        "* Keras Dropout Layer of 0.1 improved performance slightly, but only when applied to an earlier layer. Applying a Dropout to the final layer reduced accuracy, and we removed it. A Dropout layer can help reduce overfitting in some models, and we noticed a small improvement by adding it without negative impacts on performance or accuracy. A conservative probability of 10% yielded the best results.\n",
        "\n",
        "* 30 epochs runs quite fast, but training data accuracy starts to reach 95%+ after 20 epochs. This may lead to overfitting in some cases, but 30 seemed to be a good balance between performance and time. The number of epoch iterations to reach 95% was not always consistent, ranging from 7 to 20 epochs. We may say that diminishing returns occurrs after 20 epochs per observations\n",
        "\n",
        "\n",
        "* Image fidelity may play a role, where nuances in expression may not be detectible in a small image space of 48x48. Larger images require significantly more compute time on GPUs and it is always a balance\n",
        "\n",
        "* Our examples show that reaching very high accuracy in training data (99%+) does not always correlate with high accuracy against testing data. Overfitting, Bias, or other ML/AI challenges can be observed. This is important to remember, and highlights the need for Testing and Validation datasets.\n",
        "\n",
        "* Initial theory was that smaller datasets in categories such as Surprise, Fear and Disgust were a key driver in lower model performance in aggregate. However, on further research, these categories performed quite well (see Surprise/Fear/Disgust metric). We found the model performance is higher when a /smaller/ number of categories were included and is lower when including more categories.\n",
        "\n",
        "* Theory: A small number of classifications (e.g. 3) can be performed with high accuracy. When a larger number of classifications are included, the overall model accuracy drops. It is easier to distinguish Happy/Sad vs a larger number of possibilieid, e.g. (Happy/Surprised/Surprised/Angry) within one model.\n",
        "\n",
        "* Images with similar emotion visualizations (Sad, Angry, and Fearful all may have a frowning aspect) do have low test accuracy. 54% in this case. This points to the challenges in categorizing nuanced differences, while highlighting the relatively strong performance of categorizing emotions that are more visually distinct (Happy/Sad)\n",
        "\n",
        "* The \"Truthfulness\" of the images should be considered, and data labeling biases may exist. What may be considered Neutral to some may look Angry to others.\n"
      ],
      "metadata": {
        "id": "P3Fr86i9Fq3Y"
      }
    },
    {
      "cell_type": "code",
      "source": [],
      "metadata": {
        "id": "nK2SYZxsFtuo"
      },
      "execution_count": 21,
      "outputs": []
    }
  ]
}