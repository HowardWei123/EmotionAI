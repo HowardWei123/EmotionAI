{
  "nbformat": 4,
  "nbformat_minor": 0,
  "metadata": {
    "colab": {
      "provenance": [],
      "gpuType": "T4",
      "collapsed_sections": [
        "DkJ09vzkW5Jx",
        "66AOxaXrWwkO",
        "e-aafjIzPlvj",
        "icqMA9l_W0dn"
      ]
    },
    "kernelspec": {
      "name": "python3",
      "display_name": "Python 3"
    },
    "language_info": {
      "name": "python"
    },
    "accelerator": "GPU"
  },
  "cells": [
    {
      "cell_type": "markdown",
      "source": [
        "# **Dependencies**"
      ],
      "metadata": {
        "id": "DkJ09vzkW5Jx"
      }
    },
    {
      "cell_type": "code",
      "execution_count": 1,
      "metadata": {
        "id": "ZqkEZvrD_R3j"
      },
      "outputs": [],
      "source": [
        "import tensorflow as tf\n",
        "\n",
        "from tensorflow import keras\n",
        "from keras import layers\n",
        "from keras.models import Sequential\n",
        "\n",
        "import cv2\n",
        "import os\n",
        "\n",
        "from sklearn.metrics import confusion_matrix\n",
        "import matplotlib.pyplot as plt\n",
        "import seaborn as sns\n",
        "import numpy as np"
      ]
    },
    {
      "cell_type": "code",
      "source": [
        "#!unzip /content/FER_2013_80-20_Dataset.zip\n",
        "!unzip /content/FER-2013-Full.zip"
      ],
      "metadata": {
        "id": "TZ9J3tNNBdeq",
        "collapsed": true
      },
      "execution_count": null,
      "outputs": []
    },
    {
      "cell_type": "markdown",
      "source": [
        "# **Test Read Image**"
      ],
      "metadata": {
        "id": "66AOxaXrWwkO"
      }
    },
    {
      "cell_type": "markdown",
      "source": [
        "Original Data: https://www.kaggle.com/datasets/msambare/fer2013/data"
      ],
      "metadata": {
        "id": "UDo_UtFmVpqm"
      }
    },
    {
      "cell_type": "code",
      "source": [
        "# img_array = cv2.imread(\"/content/FER2013Dataset/train/surprise/Training_72717626.jpg\")\n",
        "img_array = cv2.imread(\"/content/train/surprise/Training_72717626.jpg\")\n",
        "img_array.shape"
      ],
      "metadata": {
        "id": "hPkM5o5LOelM",
        "colab": {
          "base_uri": "https://localhost:8080/"
        },
        "outputId": "115a0a52-1833-4913-99dc-784025237fc3"
      },
      "execution_count": null,
      "outputs": [
        {
          "output_type": "execute_result",
          "data": {
            "text/plain": [
              "(48, 48, 3)"
            ]
          },
          "metadata": {},
          "execution_count": 3
        }
      ]
    },
    {
      "cell_type": "code",
      "source": [
        "plt.axis('off')\n",
        "plt.imshow(img_array)"
      ],
      "metadata": {
        "id": "X7HhPUk5OizB",
        "colab": {
          "base_uri": "https://localhost:8080/",
          "height": 423
        },
        "outputId": "5bc356bb-6587-45ae-d68b-df1ee6b4f0a2"
      },
      "execution_count": null,
      "outputs": [
        {
          "output_type": "execute_result",
          "data": {
            "text/plain": [
              "<matplotlib.image.AxesImage at 0x7f3986135f30>"
            ]
          },
          "metadata": {},
          "execution_count": 4
        },
        {
          "output_type": "display_data",
          "data": {
            "text/plain": [
              "<Figure size 640x480 with 1 Axes>"
            ],
            "image/png": "[encoded data removed]"
          },
          "metadata": {}
        }
      ]
    },
    {
      "cell_type": "markdown",
      "source": [
        "# **Data**"
      ],
      "metadata": {
        "id": "0kb7-d27WS7q"
      }
    },
    {
      "cell_type": "markdown",
      "source": [
        "**Original Train**: [angry: 3995, disgust: 436, fear: 4097, happy: 7215, neutral: 4965, sad: 4830, surprise: 3171]\n",
        "\n",
        "**Modified Train**: [anger: 2000, disgust: 436, fear: 2000, happy: 2000, neutral: 2000, sad: 2000, surprise: 2000]\n",
        "\n",
        "**Original Test**: [angry: 958, disgust: 111, fear: 1024, happy: 1774, neutral: 1233, sad: 1247, surprise: 831]\n",
        "\n",
        "**Modified Test**: [anger: 500, disgust: 111, fear: 500, happy: 500, neutral: 500, sad: 500, surprise: 500]"
      ],
      "metadata": {
        "id": "gPbBuXGsS-6c"
      }
    },
    {
      "cell_type": "code",
      "source": [
        "Classes = ['angry','disgust','fear','happy','neutral','sad','surprise']\n",
        "# Classes = ['happy', 'sad']\n",
        "# Classes = ['happy', 'sad', 'neutral']\n",
        "# Classes = ['happy', 'sad', 'angry']\n",
        "# Classes = ['surprise', 'fear', 'disgust']\n",
        "# Classes = ['sad', 'fear', 'angry']\n",
        "# Classes = ['happy', 'sad', 'neutral', 'angry']"
      ],
      "metadata": {
        "id": "_se06dYgOmzV"
      },
      "execution_count": 2,
      "outputs": []
    },
    {
      "cell_type": "markdown",
      "source": [
        "## **Read all images, resize, and convert into arrays**"
      ],
      "metadata": {
        "id": "8cMO56QZOpqY"
      }
    },
    {
      "cell_type": "code",
      "source": [
        "def create_data( data, Datadirectory ):\n",
        "  for category in Classes:\n",
        "    path = os.path.join(Datadirectory, category)\n",
        "    class_num = Classes.index(category)\n",
        "    for img in os.listdir(path):\n",
        "      try:\n",
        "        img_array = cv2.imread(os.path.join(path,img) )\n",
        "        #img_array = cv2.resize(img_array, (48, 48) )\n",
        "        data.append( [img_array, class_num] )\n",
        "      except Exception as e:\n",
        "        pass"
      ],
      "metadata": {
        "id": "JosBRNfHOtVc"
      },
      "execution_count": 3,
      "outputs": []
    },
    {
      "cell_type": "code",
      "source": [
        "training_data = []\n",
        "# Datadirectory = \"/content/FER2013Dataset/train\"\n",
        "Datadirectory = \"/content/train\"\n",
        "create_data(training_data, Datadirectory)"
      ],
      "metadata": {
        "id": "0V1OOK_jOvaN"
      },
      "execution_count": 4,
      "outputs": []
    },
    {
      "cell_type": "code",
      "source": [
        "testing_data = []\n",
        "# Datadirectory = \"/content/FER2013Dataset/test\"\n",
        "Datadirectory = \"/content/test\"\n",
        "create_data(testing_data, Datadirectory)"
      ],
      "metadata": {
        "id": "j9EXW8Zl4kmC"
      },
      "execution_count": 5,
      "outputs": []
    },
    {
      "cell_type": "code",
      "source": [
        "print( len(training_data) )\n",
        "print( len(testing_data) )"
      ],
      "metadata": {
        "id": "w31Bj1BhOwsZ",
        "colab": {
          "base_uri": "https://localhost:8080/"
        },
        "outputId": "ff2d70f7-c11f-4e8f-bec1-d0b3def2e423"
      },
      "execution_count": 6,
      "outputs": [
        {
          "output_type": "stream",
          "name": "stdout",
          "text": [
            "28709\n",
            "7178\n"
          ]
        }
      ]
    },
    {
      "cell_type": "markdown",
      "source": [
        "## **Create Training and Testing Data Arrays**"
      ],
      "metadata": {
        "id": "tOhx6wpjWchu"
      }
    },
    {
      "cell_type": "code",
      "source": [
        "def create_train_test(data, x, y):\n",
        "  for features, label in data:\n",
        "    x.append(features)\n",
        "    y.append(label)"
      ],
      "metadata": {
        "id": "N5Y2szuuO0gF"
      },
      "execution_count": 7,
      "outputs": []
    },
    {
      "cell_type": "code",
      "source": [
        "x_train = []\n",
        "y_train = []\n",
        "\n",
        "x_test = []\n",
        "y_test = []\n",
        "\n",
        "create_train_test(training_data, x_train, y_train)\n",
        "create_train_test(testing_data, x_test, y_test)"
      ],
      "metadata": {
        "id": "fUi84cSiFCaq"
      },
      "execution_count": 8,
      "outputs": []
    },
    {
      "cell_type": "code",
      "source": [
        "X_train = np.array(x_train).reshape(-1, 48, 48, 3)\n",
        "Y_train = np.array(y_train)\n",
        "\n",
        "X_test = np.array(x_test).reshape(-1, 48, 48, 3)\n",
        "Y_test = np.array(y_test)"
      ],
      "metadata": {
        "id": "1sIapTesO2mT"
      },
      "execution_count": 9,
      "outputs": []
    },
    {
      "cell_type": "markdown",
      "source": [
        "###**Regular Data Processing**"
      ],
      "metadata": {
        "id": "UIXun56QNLET"
      }
    },
    {
      "cell_type": "code",
      "source": [
        "X_train = X_train / 255.0\n",
        "X_test = X_test / 255.0"
      ],
      "metadata": {
        "id": "2G4B1NcSWrH2"
      },
      "execution_count": 10,
      "outputs": []
    },
    {
      "cell_type": "markdown",
      "source": [
        "\n",
        "\n",
        "```\n",
        "# This is formatted as code\n",
        "```\n",
        "\n",
        "###**Data Augmentation on the Fly**"
      ],
      "metadata": {
        "id": "017AYp4ofNPp"
      }
    },
    {
      "cell_type": "code",
      "source": [
        "from keras.preprocessing.image import ImageDataGenerator\n",
        "\n",
        "train_datagen = ImageDataGenerator(\n",
        "    rotation_range=40,\n",
        "    width_shift_range=0.2,\n",
        "    height_shift_range=0.2,\n",
        "    shear_range=0.2,\n",
        "    zoom_range=0.2,\n",
        "    horizontal_flip=True,\n",
        "    fill_mode='nearest'\n",
        ")\n",
        "\n",
        "# Use the generator to augment data on-the-fly\n",
        "train_generator = train_datagen.flow(X_train, Y_train, batch_size=32)"
      ],
      "metadata": {
        "id": "1cdloR3gfFuU"
      },
      "execution_count": 52,
      "outputs": []
    },
    {
      "cell_type": "markdown",
      "source": [
        "###**Targeted Data Augmentation**"
      ],
      "metadata": {
        "id": "m3UD70zHrg8H"
      }
    },
    {
      "cell_type": "code",
      "source": [
        "from keras.preprocessing.image import ImageDataGenerator\n",
        "from sklearn.model_selection import train_test_split\n",
        "\n",
        "original_x_train, x_val, original_y_train, y_val = train_test_split(\n",
        "    x_train, y_train, test_size=0.2, stratify=y_train, random_state=42\n",
        ")\n",
        "\n",
        "# Convert validation set to numpy arrays and normalize\n",
        "X_val = np.array(x_val).reshape(-1, 48, 48, 3) / 255.0\n",
        "Y_val = np.array(y_val)\n",
        "\n",
        "training_data_for_aug = list(zip(original_x_train, original_y_train))\n",
        "\n",
        "datagen_underrepresented = ImageDataGenerator(\n",
        "    rotation_range=45,\n",
        "    width_shift_range=0.2,\n",
        "    height_shift_range=0.2,\n",
        "    shear_range=0.2,\n",
        "    zoom_range=0.2,\n",
        "    horizontal_flip=True,\n",
        "    fill_mode='nearest'\n",
        ")\n",
        "\n",
        "augmented_data = []\n",
        "augmented_labels = []\n",
        "\n",
        "# Example of more augmentation for specific classes (e.g., 'disgust' and 'fear')\n",
        "underrepresented_classes = ['disgust', 'fear']\n",
        "underrepresented_indexes = [Classes.index(c) for c in underrepresented_classes]\n",
        "\n",
        "for img, label in training_data_for_aug:\n",
        "  augmented_images = []\n",
        "  if label in underrepresented_indexes:\n",
        "      augmented_images = [datagen_underrepresented.random_transform(img) for _ in range(5)]\n",
        "  augmented_data.extend(augmented_images)\n",
        "  augmented_labels.extend([label] * len(augmented_images))\n",
        "\n",
        "# Convert augmented data to numpy arrays and normalize\n",
        "X_augmented = np.array(augmented_data).reshape(-1, 48, 48, 3) / 255.0\n",
        "Y_augmented = np.array(augmented_labels)\n",
        "\n",
        "# Combine original and augmented training data\n",
        "X_train = np.concatenate((X_augmented, np.array(original_x_train).reshape(-1, 48, 48, 3) / 255.0), axis=0)\n",
        "Y_train = np.concatenate((Y_augmented, np.array(original_y_train)), axis=0)"
      ],
      "metadata": {
        "id": "H1Wed5d_rnJy"
      },
      "execution_count": 20,
      "outputs": []
    },
    {
      "cell_type": "code",
      "source": [
        "print( len(X_train) )"
      ],
      "metadata": {
        "colab": {
          "base_uri": "https://localhost:8080/"
        },
        "id": "zIbIgmq9vEKG",
        "outputId": "9259f749-9e6f-486c-f105-1164f8fea237"
      },
      "execution_count": 21,
      "outputs": [
        {
          "output_type": "stream",
          "name": "stdout",
          "text": [
            "41097\n"
          ]
        }
      ]
    },
    {
      "cell_type": "markdown",
      "source": [
        "###**Data Augmentation**"
      ],
      "metadata": {
        "id": "e-aafjIzPlvj"
      }
    },
    {
      "cell_type": "code",
      "source": [
        "def augment_data(images, labels, datagen, target_count):\n",
        "    augmented_images = []\n",
        "    augmented_labels = []\n",
        "    for image, label in zip(images, labels):\n",
        "        x = image.reshape((-1, 48, 48, 3))  # Reshape to (1, height, width, channels)\n",
        "        i = 0\n",
        "        for batch in datagen.flow(x, batch_size=32):\n",
        "            augmented_images.append(batch[0])\n",
        "            augmented_labels.append(label)\n",
        "            i += 1\n",
        "            if i >= target_count:\n",
        "                break\n",
        "    return np.array(augmented_images), np.array(augmented_labels)"
      ],
      "metadata": {
        "id": "dVmhvvdrPlDE"
      },
      "execution_count": null,
      "outputs": []
    },
    {
      "cell_type": "code",
      "source": [
        "# Data augmentation settings\n",
        "datagen = ImageDataGenerator(\n",
        "    rotation_range=45,\n",
        "    width_shift_range=0.2,\n",
        "    height_shift_range=0.2,\n",
        "    shear_range=0.2,\n",
        "    zoom_range=0.2,\n",
        "    horizontal_flip=True,\n",
        "    fill_mode='nearest'\n",
        ")"
      ],
      "metadata": {
        "id": "EwZ-2ijSTTOC"
      },
      "execution_count": 42,
      "outputs": []
    },
    {
      "cell_type": "code",
      "source": [
        "from collections import Counter\n",
        "\n",
        "# Number of images in the majority class\n",
        "majority_class_count = max(Counter(Y_train).values()) #7215"
      ],
      "metadata": {
        "id": "tWRA4OFlTU3s"
      },
      "execution_count": null,
      "outputs": []
    },
    {
      "cell_type": "code",
      "source": [
        "# Augment data for each class\n",
        "augmented_images = []\n",
        "augmented_labels = []\n",
        "\n",
        "for class_label in np.unique(Y_train):\n",
        "    class_images = X_train[Y_train == class_label]\n",
        "    class_labels = Y_train[Y_train == class_label]\n",
        "    target_count = majority_class_count - len(class_images)\n",
        "    if target_count > 0:\n",
        "        aug_images, aug_labels = augment_data(class_images, class_labels, datagen, target_count)\n",
        "        augmented_images.extend(aug_images)\n",
        "        augmented_labels.extend(aug_labels)"
      ],
      "metadata": {
        "id": "I86JJ-HlVoQI"
      },
      "execution_count": null,
      "outputs": []
    },
    {
      "cell_type": "code",
      "source": [
        "# Combine original and augmented datasets\n",
        "X_combined = np.concatenate((X_train, np.array(augmented_images)), axis=0)\n",
        "Y_combined = np.concatenate((Y_train, np.array(augmented_labels)), axis=0)"
      ],
      "metadata": {
        "id": "9tKtCt72QTNu"
      },
      "execution_count": null,
      "outputs": []
    },
    {
      "cell_type": "code",
      "source": [
        "# Normalize the data\n",
        "X_train = X_combined / 255.0\n",
        "Y_train = Y_combined"
      ],
      "metadata": {
        "id": "ohA9wCOXVtaw"
      },
      "execution_count": null,
      "outputs": []
    },
    {
      "cell_type": "markdown",
      "source": [
        "### **Oversampling**"
      ],
      "metadata": {
        "id": "icqMA9l_W0dn"
      }
    },
    {
      "cell_type": "code",
      "source": [
        "from imblearn.over_sampling import RandomOverSampler\n",
        "\n",
        "# flatten data for RandomOverSampler\n",
        "X_train_flattened = X_train.reshape(X_train.shape[0], -1)\n",
        "# X_test_flattened = X_test.reshape(X_test.shape[0], -1)\n",
        "\n",
        "ros = RandomOverSampler(sampling_strategy='auto')\n",
        "\n",
        "# Fit and resample the flattened data\n",
        "X_resampled_train, Y_resampled_train = ros.fit_resample(X_train_flattened, Y_train)\n",
        "# X_resampled_test, Y_resampled_test = ros.fit_resample(X_test_flattened, Y_test)\n",
        "\n",
        "# Reshape the oversampled data back to the original 4D format\n",
        "X_resampled_train = X_resampled_train.reshape(X_resampled_train.shape[0], 48, 48, 3)\n",
        "# X_resampled_test = X_resampled_test.reshape(X_resampled_test.shape[0], 48, 48, 3)"
      ],
      "metadata": {
        "id": "bRdnq1jL4d-s"
      },
      "execution_count": null,
      "outputs": []
    },
    {
      "cell_type": "code",
      "source": [
        "X_train = X_resampled_train / 255.0\n",
        "# X_test = X_resampled_test / 255.0\n",
        "Y_train = Y_resampled_train\n",
        "# Y_test = Y_resampled_test"
      ],
      "metadata": {
        "id": "5X6qHu7UO3uj"
      },
      "execution_count": null,
      "outputs": []
    },
    {
      "cell_type": "markdown",
      "source": [
        "# **Model Training and Testing**"
      ],
      "metadata": {
        "id": "_-6LL610PAEP"
      }
    },
    {
      "cell_type": "code",
      "source": [
        "from sklearn.utils import class_weight\n",
        "\n",
        "# Calculate class weights\n",
        "class_weights = class_weight.compute_class_weight(\n",
        "    'balanced',\n",
        "    classes=np.unique(Y_train),\n",
        "    y=Y_train\n",
        ")\n",
        "\n",
        "class_weights_dict = dict(enumerate(class_weights))\n",
        "\n",
        "# Print class weights for inspection\n",
        "print(\"Class weights:\", class_weights_dict)"
      ],
      "metadata": {
        "colab": {
          "base_uri": "https://localhost:8080/"
        },
        "id": "R3O194LLl0AL",
        "outputId": "ad8a4f6a-7059-405c-bd83-7a9a76cc2981"
      },
      "execution_count": 22,
      "outputs": [
        {
          "output_type": "stream",
          "name": "stdout",
          "text": [
            "Class weights: {0: 1.8369837296620777, 1: 2.803724928366762, 2: 0.2985962770826976, 3: 1.0171517671517671, 4: 1.4780966767371602, 5: 1.5194099378881987, 6: 2.3141505715411905}\n"
          ]
        }
      ]
    },
    {
      "cell_type": "code",
      "source": [
        "model = Sequential([\n",
        "    layers.Conv2D(16, 3, padding='same', activation='relu'),\n",
        "    layers.MaxPooling2D(),\n",
        "    layers.Conv2D(32, 3, padding='same', activation='relu'),\n",
        "    layers.MaxPooling2D(),\n",
        "    layers.Conv2D(64, 3, padding='same', activation='relu'),\n",
        "    layers.MaxPooling2D(),\n",
        "    layers.Flatten(),\n",
        "    layers.Dense(128, activation='relu'),\n",
        "    layers.Dropout(0.1),\n",
        "    layers.Dense(7, activation='softmax')\n",
        "   ])"
      ],
      "metadata": {
        "id": "wJYAM0RgfSKB"
      },
      "execution_count": 23,
      "outputs": []
    },
    {
      "cell_type": "code",
      "source": [
        "model.compile(\n",
        "    optimizer='adam',\n",
        "    loss='sparse_categorical_crossentropy',\n",
        "    metrics=['accuracy']\n",
        "    )"
      ],
      "metadata": {
        "id": "4s5rPSPCfYyJ"
      },
      "execution_count": 24,
      "outputs": []
    },
    {
      "cell_type": "code",
      "source": [
        "# Train the model using the image generator data augmentation\n",
        "model.fit(\n",
        "    train_generator,\n",
        "    steps_per_epoch=len(X_train) // 32,\n",
        "    epochs=30,\n",
        "    class_weight=class_weights_dict,\n",
        "    shuffle=True\n",
        ")"
      ],
      "metadata": {
        "id": "SSxALSDIfZNF"
      },
      "execution_count": null,
      "outputs": []
    },
    {
      "cell_type": "code",
      "source": [
        "model.fit(X_train, Y_train, epochs=30, validation_data=(X_val, Y_val), class_weight=class_weights_dict, shuffle=True)"
      ],
      "metadata": {
        "id": "MfzcYgNyBKk3",
        "collapsed": true,
        "colab": {
          "base_uri": "https://localhost:8080/"
        },
        "outputId": "1786d3c0-a097-44eb-a1c1-4c912e293315"
      },
      "execution_count": 25,
      "outputs": [
        {
          "output_type": "stream",
          "name": "stdout",
          "text": [
            "Epoch 1/30\n",
            "1285/1285 [==============================] - 11s 6ms/step - loss: 1.6056 - accuracy: 0.3674 - val_loss: 1.6578 - val_accuracy: 0.4350\n",
            "Epoch 2/30\n",
            "1285/1285 [==============================] - 6s 5ms/step - loss: 1.2751 - accuracy: 0.4853 - val_loss: 1.4780 - val_accuracy: 0.4890\n",
            "Epoch 3/30\n",
            "1285/1285 [==============================] - 7s 6ms/step - loss: 1.1349 - accuracy: 0.5282 - val_loss: 1.3940 - val_accuracy: 0.5084\n",
            "Epoch 4/30\n",
            "1285/1285 [==============================] - 6s 5ms/step - loss: 1.0316 - accuracy: 0.5691 - val_loss: 1.4131 - val_accuracy: 0.5070\n",
            "Epoch 5/30\n",
            "1285/1285 [==============================] - 7s 5ms/step - loss: 0.9485 - accuracy: 0.5982 - val_loss: 1.3834 - val_accuracy: 0.5174\n",
            "Epoch 6/30\n",
            "1285/1285 [==============================] - 6s 5ms/step - loss: 0.8637 - accuracy: 0.6272 - val_loss: 1.4175 - val_accuracy: 0.5282\n",
            "Epoch 7/30\n",
            "1285/1285 [==============================] - 7s 5ms/step - loss: 0.7817 - accuracy: 0.6582 - val_loss: 1.4333 - val_accuracy: 0.5371\n",
            "Epoch 8/30\n",
            "1285/1285 [==============================] - 6s 5ms/step - loss: 0.7074 - accuracy: 0.6882 - val_loss: 1.4204 - val_accuracy: 0.5279\n",
            "Epoch 9/30\n",
            "1285/1285 [==============================] - 7s 5ms/step - loss: 0.6455 - accuracy: 0.7094 - val_loss: 1.5415 - val_accuracy: 0.5293\n",
            "Epoch 10/30\n",
            "1285/1285 [==============================] - 6s 5ms/step - loss: 0.5742 - accuracy: 0.7358 - val_loss: 1.6423 - val_accuracy: 0.5223\n",
            "Epoch 11/30\n",
            "1285/1285 [==============================] - 7s 5ms/step - loss: 0.5141 - accuracy: 0.7602 - val_loss: 1.5962 - val_accuracy: 0.5246\n",
            "Epoch 12/30\n",
            "1285/1285 [==============================] - 6s 5ms/step - loss: 0.4679 - accuracy: 0.7776 - val_loss: 1.7427 - val_accuracy: 0.5218\n",
            "Epoch 13/30\n",
            "1285/1285 [==============================] - 8s 6ms/step - loss: 0.4274 - accuracy: 0.7925 - val_loss: 1.8734 - val_accuracy: 0.5310\n",
            "Epoch 14/30\n",
            "1285/1285 [==============================] - 7s 5ms/step - loss: 0.3868 - accuracy: 0.8095 - val_loss: 2.0734 - val_accuracy: 0.5089\n",
            "Epoch 15/30\n",
            "1285/1285 [==============================] - 6s 5ms/step - loss: 0.3614 - accuracy: 0.8195 - val_loss: 2.0399 - val_accuracy: 0.5308\n",
            "Epoch 16/30\n",
            "1285/1285 [==============================] - 7s 5ms/step - loss: 0.3403 - accuracy: 0.8288 - val_loss: 2.0852 - val_accuracy: 0.5242\n",
            "Epoch 17/30\n",
            "1285/1285 [==============================] - 6s 5ms/step - loss: 0.3220 - accuracy: 0.8393 - val_loss: 2.1517 - val_accuracy: 0.5263\n",
            "Epoch 18/30\n",
            "1285/1285 [==============================] - 7s 5ms/step - loss: 0.2943 - accuracy: 0.8514 - val_loss: 2.1774 - val_accuracy: 0.5206\n",
            "Epoch 19/30\n",
            "1285/1285 [==============================] - 6s 5ms/step - loss: 0.2837 - accuracy: 0.8568 - val_loss: 2.4473 - val_accuracy: 0.5181\n",
            "Epoch 20/30\n",
            "1285/1285 [==============================] - 7s 6ms/step - loss: 0.2693 - accuracy: 0.8624 - val_loss: 2.3437 - val_accuracy: 0.5200\n",
            "Epoch 21/30\n",
            "1285/1285 [==============================] - 6s 5ms/step - loss: 0.2548 - accuracy: 0.8704 - val_loss: 2.4728 - val_accuracy: 0.5099\n",
            "Epoch 22/30\n",
            "1285/1285 [==============================] - 7s 5ms/step - loss: 0.2423 - accuracy: 0.8749 - val_loss: 2.5912 - val_accuracy: 0.5115\n",
            "Epoch 23/30\n",
            "1285/1285 [==============================] - 6s 5ms/step - loss: 0.2458 - accuracy: 0.8756 - val_loss: 2.4786 - val_accuracy: 0.5240\n",
            "Epoch 24/30\n",
            "1285/1285 [==============================] - 7s 5ms/step - loss: 0.2264 - accuracy: 0.8838 - val_loss: 2.7690 - val_accuracy: 0.5152\n",
            "Epoch 25/30\n",
            "1285/1285 [==============================] - 6s 5ms/step - loss: 0.2319 - accuracy: 0.8820 - val_loss: 2.6686 - val_accuracy: 0.5157\n",
            "Epoch 26/30\n",
            "1285/1285 [==============================] - 7s 5ms/step - loss: 0.2117 - accuracy: 0.8909 - val_loss: 2.8425 - val_accuracy: 0.5134\n",
            "Epoch 27/30\n",
            "1285/1285 [==============================] - 6s 5ms/step - loss: 0.2195 - accuracy: 0.8900 - val_loss: 2.6679 - val_accuracy: 0.5148\n",
            "Epoch 28/30\n",
            "1285/1285 [==============================] - 7s 5ms/step - loss: 0.1997 - accuracy: 0.8962 - val_loss: 3.2520 - val_accuracy: 0.5101\n",
            "Epoch 29/30\n",
            "1285/1285 [==============================] - 6s 5ms/step - loss: 0.2025 - accuracy: 0.8944 - val_loss: 2.8913 - val_accuracy: 0.5098\n",
            "Epoch 30/30\n",
            "1285/1285 [==============================] - 7s 5ms/step - loss: 0.2004 - accuracy: 0.8970 - val_loss: 3.1666 - val_accuracy: 0.5056\n"
          ]
        },
        {
          "output_type": "execute_result",
          "data": {
            "text/plain": [
              "<keras.src.callbacks.History at 0x79a5f43cec80>"
            ]
          },
          "metadata": {},
          "execution_count": 25
        }
      ]
    },
    {
      "cell_type": "code",
      "source": [
        "model.evaluate(X_test, Y_test)"
      ],
      "metadata": {
        "id": "S9E3NC6eG8d_",
        "colab": {
          "base_uri": "https://localhost:8080/"
        },
        "outputId": "16b9a0ec-fc61-46c6-d906-06246b92d75b"
      },
      "execution_count": 26,
      "outputs": [
        {
          "output_type": "stream",
          "name": "stdout",
          "text": [
            "225/225 [==============================] - 1s 3ms/step - loss: 3.1054 - accuracy: 0.5160\n"
          ]
        },
        {
          "output_type": "execute_result",
          "data": {
            "text/plain": [
              "[3.1053943634033203, 0.516021192073822]"
            ]
          },
          "metadata": {},
          "execution_count": 26
        }
      ]
    },
    {
      "cell_type": "code",
      "source": [
        "y_pred = model.predict(X_test)\n",
        "\n",
        "\n",
        "cm = confusion_matrix(Y_test, y_pred.argmax(axis=1))\n",
        "\n",
        "\n",
        "plt.figure(figsize=(11,7))\n",
        "sns.heatmap(cm, annot=True, fmt='d', cmap='Purples', xticklabels=Classes, yticklabels=Classes)\n",
        "plt.xlabel('Predicted Emotion')\n",
        "plt.ylabel('True Emotion')\n",
        "plt.title('Confusion Matrix')\n",
        "plt.show()"
      ],
      "metadata": {
        "colab": {
          "base_uri": "https://localhost:8080/",
          "height": 658
        },
        "id": "8p7uY4BqJ1e0",
        "outputId": "309dcf4d-0f70-4668-893b-01df373e9cad"
      },
      "execution_count": 27,
      "outputs": [
        {
          "output_type": "stream",
          "name": "stdout",
          "text": [
            "225/225 [==============================] - 1s 3ms/step\n"
          ]
        },
        {
          "output_type": "display_data",
          "data": {
            "text/plain": [
              "<Figure size 1100x700 with 2 Axes>"
            ],
            "image/png": "[encoded data removed]"
          },
          "metadata": {}
        }
      ]
    },
    {
      "cell_type": "code",
      "source": [
        "model.save('seqfermodel3.h5')"
      ],
      "metadata": {
        "id": "Zh-N3sqEYyPT",
        "colab": {
          "base_uri": "https://localhost:8080/"
        },
        "outputId": "3ffded71-d62a-4ceb-c1e3-50acffe192fb"
      },
      "execution_count": null,
      "outputs": [
        {
          "output_type": "stream",
          "name": "stderr",
          "text": [
            "/usr/local/lib/python3.10/dist-packages/keras/src/engine/training.py:3103: UserWarning: You are saving your model as an HDF5 file via `model.save()`. This file format is considered legacy. We recommend using instead the native Keras format, e.g. `model.save('my_model.keras')`.\n",
            "  saving_api.save_model(\n"
          ]
        }
      ]
    },
    {
      "cell_type": "code",
      "source": [
        "model = keras.models.load_model('seqfermodel3.h5')"
      ],
      "metadata": {
        "id": "LqcRbAw5Y2ow"
      },
      "execution_count": null,
      "outputs": []
    },
    {
      "cell_type": "markdown",
      "source": [
        "Model Run with 2 Categories - Happy/Sad.\n",
        "\n",
        "*   Training Data Accuracy: 95%+\n",
        "*   Test Data Accuracy: 86%\n",
        "*   Training Data Size: 12045\n",
        "*   Test Data Size: 3021\n",
        "\n",
        "Model Run with 3 Categories - Happy/Sad/Neutral.\n",
        "\n",
        "*   Training Data Accuracy: 97%+\n",
        "*   Test Data Accuracy: 69%\n",
        "*   Training Data Size: 17010\n",
        "*   Test Data Size: 4254\n",
        "\n",
        "Model Run with 3 Categories - Happy/Sad/Angry.\n",
        "\n",
        "*   Training Data Accuracy: 98%+\n",
        "*   Test Data Accuracy: 72%\n",
        "*   Training Data Size: 16040\n",
        "*   Test Data Size: 3979\n",
        "\n",
        "Model Run with 3 Categories that are lower in dataset size- Surprise/Fear/Disgust.\n",
        "\n",
        "*   Training Data Accuracy: 98%\n",
        "*   Test Data Accuracy: 79%\n",
        "*   Training Data Size: 7704\n",
        "*   Test Data Size: 1966\n",
        "\n",
        "Model Run with 3 Categories that are similar in visual style (Sad/Fear/Angry)\n",
        "\n",
        "*   Training Data Accuracy: 97%\n",
        "*   Test Data Accuracy: 54%\n",
        "*   Training Data Size: 12922\n",
        "*   Test Data Size: 3229\n",
        "\n",
        "\n",
        "Model Run with All Categories.\n",
        "\n",
        "*   Training Data Accuracy: 93%+\n",
        "*   Test Data Accuracy:  53.4%\n",
        "*   Training Data Size: 28709\n",
        "*   Test Data Size: 7178\n",
        "\n",
        "\n",
        "Key notes:\n",
        "* Additional training data DID improve model performance. When we switched from the modified dataset to the original, test data performance improved\n",
        "\n",
        "* Pixel modification reduced performance. changing from 48x48 to 180x180 reduced the test data accuracy, as well as made the model take longer. The 180x180 model consumed around 64GB of memory. The 48x48 model consumed approximately 35GB, running on Google Colab TPU with Python3\n",
        "\n",
        "* Keras Dropout Layer of 0.1 improved performance slightly, but only when applied to an earlier layer. Applying a Dropout to the final layer reduced accuracy, and we removed it. A Dropout layer can help reduce overfitting in some models, and we noticed a small improvement by adding it without negative impacts on performance or accuracy. A conservative probability of 10% yielded the best results.\n",
        "\n",
        "* 30 epochs runs quite fast, but training data accuracy starts to reach 95%+ after 20 epochs. This may lead to overfitting in some cases, but 30 seemed to be a good balance between performance and time. The number of epoch iterations to reach 95% was not always consistent, ranging from 7 to 20 epochs. We may say that diminishing returns occurrs after 20 epochs per observations\n",
        "\n",
        "\n",
        "* Image fidelity may play a role, where nuances in expression may not be detectible in a small image space of 48x48. Larger images require significantly more compute time on GPUs and it is always a balance\n",
        "\n",
        "* Our examples show that reaching very high accuracy in training data (99%+) does not always correlate with high accuracy against testing data. Overfitting, Bias, or other ML/AI challenges can be observed. This is important to remember, and highlights the need for Testing and Validation datasets.\n",
        "\n",
        "* Initial theory was that smaller datasets in categories such as Surprise, Fear and Disgust were a key driver in lower model performance in aggregate. However, on further research, these categories performed quite well (see Surprise/Fear/Disgust metric). We found the model performance is higher when a /smaller/ number of categories were included and is lower when including more categories.\n",
        "\n",
        "* Theory: A small number of classifications (e.g. 3) can be performed with high accuracy. When a larger number of classifications are included, the overall model accuracy drops. It is easier to distinguish Happy/Sad vs a larger number of possibilieid, e.g. (Happy/Surprised/Surprised/Angry) within one model.\n",
        "\n",
        "* Images with similar emotion visualizations (Sad, Angry, and Fearful all may have a frowning aspect) do have low test accuracy. 54% in this case. This points to the challenges in categorizing nuanced differences, while highlighting the relatively strong performance of categorizing emotions that are more visually distinct (Happy/Sad)\n",
        "\n",
        "* The \"Truthfulness\" of the images should be considered, and data labeling biases may exist. What may be considered Neutral to some may look Angry to others.\n"
      ],
      "metadata": {
        "id": "P3Fr86i9Fq3Y"
      }
    },
    {
      "cell_type": "code",
      "source": [],
      "metadata": {
        "id": "nK2SYZxsFtuo"
      },
      "execution_count": null,
      "outputs": []
    }
  ]
}