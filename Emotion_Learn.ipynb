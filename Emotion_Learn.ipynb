{
  "nbformat": 4,
  "nbformat_minor": 0,
  "metadata": {
    "colab": {
      "provenance": [],
      "gpuType": "V28",
      "include_colab_link": true
    },
    "kernelspec": {
      "name": "python3",
      "display_name": "Python 3"
    },
    "language_info": {
      "name": "python"
    },
    "accelerator": "TPU"
  },
  "cells": [
    {
      "cell_type": "markdown",
      "metadata": {
        "id": "view-in-github",
        "colab_type": "text"
      },
      "source": [
        "<a href=\"https://colab.research.google.com/github/HowardWei123/EmotionAI/blob/colab/Emotion_Learn.ipynb\" target=\"_parent\"><img src=\"https://colab.research.google.com/assets/colab-badge.svg\" alt=\"Open In Colab\"/></a>"
      ]
    },
    {
      "cell_type": "markdown",
      "source": [
        "# **Dependencies**"
      ],
      "metadata": {
        "id": "DkJ09vzkW5Jx"
      }
    },
    {
      "cell_type": "code",
      "execution_count": 1,
      "metadata": {
        "id": "ZqkEZvrD_R3j"
      },
      "outputs": [],
      "source": [
        "import tensorflow as tf\n",
        "\n",
        "from tensorflow import keras\n",
        "from keras import layers\n",
        "from keras.models import Sequential\n",
        "\n",
        "import cv2\n",
        "import os\n",
        "import matplotlib.pyplot as plt\n",
        "import numpy as np"
      ]
    },
    {
      "cell_type": "markdown",
      "source": [
        "# **Test**"
      ],
      "metadata": {
        "id": "66AOxaXrWwkO"
      }
    },
    {
      "cell_type": "markdown",
      "source": [
        "Original Data: https://www.kaggle.com/datasets/msambare/fer2013/data"
      ],
      "metadata": {
        "id": "UDo_UtFmVpqm"
      }
    },
    {
      "cell_type": "code",
      "source": [
        "!unzip /content/FER_2013_80-20_Dataset.zip"
      ],
      "metadata": {
        "id": "gM7B4_YVXZRW"
      },
      "execution_count": null,
      "outputs": []
    },
    {
      "cell_type": "code",
      "source": [
        "img_array = cv2.imread(\"/content/FER2013Dataset/train/surprise/Training_8796.jpg\")\n",
        "img_array.shape"
      ],
      "metadata": {
        "id": "hPkM5o5LOelM",
        "colab": {
          "base_uri": "https://localhost:8080/"
        },
        "outputId": "ea606618-122a-4ba8-c496-8c83fb355053"
      },
      "execution_count": 26,
      "outputs": [
        {
          "output_type": "execute_result",
          "data": {
            "text/plain": [
              "(48, 48, 3)"
            ]
          },
          "metadata": {},
          "execution_count": 26
        }
      ]
    },
    {
      "cell_type": "code",
      "source": [
        "plt.axis('off')\n",
        "plt.imshow(img_array)"
      ],
      "metadata": {
        "id": "X7HhPUk5OizB",
        "colab": {
          "base_uri": "https://localhost:8080/",
          "height": 423
        },
        "outputId": "445d05d2-bda5-457f-c220-cc4509cfef2d"
      },
      "execution_count": 25,
      "outputs": [
        {
          "output_type": "execute_result",
          "data": {
            "text/plain": [
              "<matplotlib.image.AxesImage at 0x7e462c6e38e0>"
            ]
          },
          "metadata": {},
          "execution_count": 25
        },
        {
          "output_type": "display_data",
          "data": {
            "text/plain": [
              "<Figure size 640x480 with 1 Axes>"
            ],
            "image/png": "[encoded data removed]"
          },
          "metadata": {}
        }
      ]
    },
    {
      "cell_type": "markdown",
      "source": [
        "# **Data**"
      ],
      "metadata": {
        "id": "0kb7-d27WS7q"
      }
    },
    {
      "cell_type": "markdown",
      "source": [
        "Original Dataset String: \"/content/trainORtest\"\n",
        "\n",
        "Modified Dataset String: \"/content/FER2013Dataset/trainORtest\""
      ],
      "metadata": {
        "id": "8fiu_wJaUeNe"
      }
    },
    {
      "cell_type": "code",
      "source": [
        "Datadirectory = \"/content/FER2013Dataset/train\""
      ],
      "metadata": {
        "id": "YcATkUI6Okea"
      },
      "execution_count": 4,
      "outputs": []
    },
    {
      "cell_type": "markdown",
      "source": [
        "**Original Train**: [anger: 3995, disgust: 436, fear: 4097, happy: 7215, neutral: 4965, sad: 4830, surprise: 3171]\n",
        "\n",
        "**Modified Train**: [anger: 2000, disgust: 436, fear: 2000, happy: 2000, neutral: 2000, sad: 2000, surprise: 2000]\n",
        "\n",
        "**Original Test**: [anger: 958, disgust: 111, fear: 1024, happy: 1774, neutral: 1233, sad: 1247, surprise: 831]\n",
        "\n",
        "**Modified Test**: [anger: 500, disgust: 111, fear: 500, happy: 500, neutral: 500, sad: 500, surprise: 500]"
      ],
      "metadata": {
        "id": "gPbBuXGsS-6c"
      }
    },
    {
      "cell_type": "code",
      "source": [
        "Classes = ['anger','disgust','fear','happy','neutral','sad','surprise']"
      ],
      "metadata": {
        "id": "_se06dYgOmzV"
      },
      "execution_count": 5,
      "outputs": []
    },
    {
      "cell_type": "markdown",
      "source": [
        "## **Read all images, resize, and convert into arrays**"
      ],
      "metadata": {
        "id": "8cMO56QZOpqY"
      }
    },
    {
      "cell_type": "code",
      "source": [
        "def create_data( data ):\n",
        "  for category in Classes:\n",
        "    path = os.path.join(Datadirectory, category)\n",
        "    class_num = Classes.index(category)\n",
        "    for img in os.listdir(path):\n",
        "      try:\n",
        "        img_array = cv2.imread(os.path.join(path,img) )\n",
        "        new_array = cv2.resize(img_array, (180, 180) )\n",
        "        data.append( [new_array, class_num] )\n",
        "      except Exception as e:\n",
        "        pass"
      ],
      "metadata": {
        "id": "JosBRNfHOtVc"
      },
      "execution_count": 6,
      "outputs": []
    },
    {
      "cell_type": "code",
      "source": [
        "training_data = []\n",
        "create_data(training_data)"
      ],
      "metadata": {
        "id": "0V1OOK_jOvaN"
      },
      "execution_count": 7,
      "outputs": []
    },
    {
      "cell_type": "code",
      "source": [
        "testing_data = []\n",
        "Datadirectory = \"/content/FER2013Dataset/test\"\n",
        "create_data(testing_data)"
      ],
      "metadata": {
        "id": "j9EXW8Zl4kmC"
      },
      "execution_count": 8,
      "outputs": []
    },
    {
      "cell_type": "code",
      "source": [
        "print( len(training_data) )\n",
        "print( len(testing_data) )"
      ],
      "metadata": {
        "id": "w31Bj1BhOwsZ",
        "colab": {
          "base_uri": "https://localhost:8080/"
        },
        "outputId": "e1f9e407-c7e4-4af9-8d2b-785b17966f3f"
      },
      "execution_count": 9,
      "outputs": [
        {
          "output_type": "stream",
          "name": "stdout",
          "text": [
            "12436\n",
            "3111\n"
          ]
        }
      ]
    },
    {
      "cell_type": "markdown",
      "source": [
        "## **Create Training and Testing Data Arrays**"
      ],
      "metadata": {
        "id": "tOhx6wpjWchu"
      }
    },
    {
      "cell_type": "code",
      "source": [
        "import random\n",
        "\n",
        "random.shuffle(training_data)\n",
        "random.shuffle(testing_data)"
      ],
      "metadata": {
        "id": "sDTp1GvXOx_P"
      },
      "execution_count": 10,
      "outputs": []
    },
    {
      "cell_type": "code",
      "source": [
        "def create_train_test(data, x, y):\n",
        "  for features, label in data:\n",
        "    x.append(features)\n",
        "    y.append(label)"
      ],
      "metadata": {
        "id": "N5Y2szuuO0gF"
      },
      "execution_count": 11,
      "outputs": []
    },
    {
      "cell_type": "code",
      "source": [
        "x_train = []\n",
        "y_train = []\n",
        "\n",
        "x_test = []\n",
        "y_test = []\n",
        "\n",
        "create_train_test(training_data, x_train, y_train)\n",
        "create_train_test(testing_data, x_test, y_test)"
      ],
      "metadata": {
        "id": "fUi84cSiFCaq"
      },
      "execution_count": 12,
      "outputs": []
    },
    {
      "cell_type": "code",
      "source": [
        "X_train = np.array(x_train).reshape(-1, 180, 180, 3)\n",
        "Y_train = np.array(y_train)\n",
        "\n",
        "X_test = np.array(x_test).reshape(-1, 180, 180, 3)\n",
        "Y_test = np.array(y_test)"
      ],
      "metadata": {
        "id": "1sIapTesO2mT"
      },
      "execution_count": 13,
      "outputs": []
    },
    {
      "cell_type": "code",
      "source": [
        "X_train = X_train / 255.0\n",
        "X_test = X_test / 255.0"
      ],
      "metadata": {
        "id": "5X6qHu7UO3uj"
      },
      "execution_count": 14,
      "outputs": []
    },
    {
      "cell_type": "markdown",
      "source": [
        "### **Correct Dataset Imbalances**"
      ],
      "metadata": {
        "id": "2jK83wuMLjLS"
      }
    },
    {
      "cell_type": "markdown",
      "source": [
        "```\n",
        "# import imblearn random oversampler\n",
        "# create instance of randomoversampler\n",
        "# drop disgust from xtrain, ytrain, xtest, ytest\n",
        "# oversample droppped disgust\n",
        "# add rebalanced data back to training testing sets\n",
        "# retrain model and test\n",
        "```\n",
        "\n"
      ],
      "metadata": {
        "id": "QzC5pbWoXU0q"
      }
    },
    {
      "cell_type": "code",
      "source": [],
      "metadata": {
        "id": "ohKB5xMqL28d"
      },
      "execution_count": null,
      "outputs": []
    },
    {
      "cell_type": "markdown",
      "source": [
        "# **Model Training and Testing**"
      ],
      "metadata": {
        "id": "_-6LL610PAEP"
      }
    },
    {
      "cell_type": "code",
      "source": [
        "model = Sequential([\n",
        "    layers.Conv2D(16, 3, padding='same', activation='relu'),\n",
        "    layers.MaxPooling2D(),\n",
        "    layers.Conv2D(32, 3, padding='same', activation='relu'),\n",
        "    layers.MaxPooling2D(),\n",
        "    layers.Conv2D(64, 3, padding='same', activation='relu'),\n",
        "    layers.MaxPooling2D(),\n",
        "    layers.Flatten(),\n",
        "    layers.Dense(128, activation='relu'),\n",
        "    layers.Dense(7, activation='softmax')\n",
        "])"
      ],
      "metadata": {
        "id": "dL4G3hpC-yDq"
      },
      "execution_count": 19,
      "outputs": []
    },
    {
      "cell_type": "code",
      "source": [
        "model.compile(\n",
        "    optimizer='adam',\n",
        "    loss='sparse_categorical_crossentropy',\n",
        "    metrics=['accuracy']\n",
        "    )"
      ],
      "metadata": {
        "id": "TjcVRQwvAxZV"
      },
      "execution_count": 20,
      "outputs": []
    },
    {
      "cell_type": "code",
      "source": [
        "model.fit(X_train, Y_train, epochs=30)"
      ],
      "metadata": {
        "id": "MfzcYgNyBKk3",
        "colab": {
          "base_uri": "https://localhost:8080/"
        },
        "outputId": "8609247b-635f-42ba-fd6d-926ce3b07caf"
      },
      "execution_count": 21,
      "outputs": [
        {
          "output_type": "stream",
          "name": "stdout",
          "text": [
            "Epoch 1/30\n",
            "389/389 [==============================] - 43s 107ms/step - loss: 1.7881 - accuracy: 0.2687\n",
            "Epoch 2/30\n",
            "389/389 [==============================] - 40s 104ms/step - loss: 1.5870 - accuracy: 0.3842\n",
            "Epoch 3/30\n",
            "389/389 [==============================] - 39s 100ms/step - loss: 1.3807 - accuracy: 0.4738\n",
            "Epoch 4/30\n",
            "389/389 [==============================] - 40s 103ms/step - loss: 1.1575 - accuracy: 0.5659\n",
            "Epoch 5/30\n",
            "389/389 [==============================] - 40s 102ms/step - loss: 0.8574 - accuracy: 0.6860\n",
            "Epoch 6/30\n",
            "389/389 [==============================] - 41s 104ms/step - loss: 0.5274 - accuracy: 0.8159\n",
            "Epoch 7/30\n",
            "389/389 [==============================] - 40s 103ms/step - loss: 0.2814 - accuracy: 0.9058\n",
            "Epoch 8/30\n",
            "389/389 [==============================] - 40s 104ms/step - loss: 0.1547 - accuracy: 0.9540\n",
            "Epoch 9/30\n",
            "389/389 [==============================] - 41s 105ms/step - loss: 0.0846 - accuracy: 0.9786\n",
            "Epoch 10/30\n",
            "389/389 [==============================] - 40s 104ms/step - loss: 0.0752 - accuracy: 0.9810\n",
            "Epoch 11/30\n",
            "389/389 [==============================] - 40s 104ms/step - loss: 0.0983 - accuracy: 0.9722\n",
            "Epoch 12/30\n",
            "389/389 [==============================] - 40s 102ms/step - loss: 0.0584 - accuracy: 0.9849\n",
            "Epoch 13/30\n",
            "389/389 [==============================] - 40s 102ms/step - loss: 0.0600 - accuracy: 0.9838\n",
            "Epoch 14/30\n",
            "389/389 [==============================] - 39s 100ms/step - loss: 0.0405 - accuracy: 0.9913\n",
            "Epoch 15/30\n",
            "389/389 [==============================] - 39s 99ms/step - loss: 0.0400 - accuracy: 0.9894\n",
            "Epoch 16/30\n",
            "389/389 [==============================] - 39s 101ms/step - loss: 0.0696 - accuracy: 0.9819\n",
            "Epoch 17/30\n",
            "389/389 [==============================] - 39s 100ms/step - loss: 0.0483 - accuracy: 0.9875\n",
            "Epoch 18/30\n",
            "389/389 [==============================] - 39s 101ms/step - loss: 0.0355 - accuracy: 0.9914\n",
            "Epoch 19/30\n",
            "389/389 [==============================] - 39s 99ms/step - loss: 0.0259 - accuracy: 0.9939\n",
            "Epoch 20/30\n",
            "389/389 [==============================] - 39s 100ms/step - loss: 0.0323 - accuracy: 0.9904\n",
            "Epoch 21/30\n",
            "389/389 [==============================] - 39s 99ms/step - loss: 0.0327 - accuracy: 0.9914\n",
            "Epoch 22/30\n",
            "389/389 [==============================] - 39s 100ms/step - loss: 0.0488 - accuracy: 0.9858\n",
            "Epoch 23/30\n",
            "389/389 [==============================] - 39s 99ms/step - loss: 0.0383 - accuracy: 0.9902\n",
            "Epoch 24/30\n",
            "389/389 [==============================] - 39s 101ms/step - loss: 0.0352 - accuracy: 0.9899\n",
            "Epoch 25/30\n",
            "389/389 [==============================] - 39s 101ms/step - loss: 0.0176 - accuracy: 0.9950\n",
            "Epoch 26/30\n",
            "389/389 [==============================] - 38s 99ms/step - loss: 0.0173 - accuracy: 0.9957\n",
            "Epoch 27/30\n",
            "389/389 [==============================] - 38s 98ms/step - loss: 0.0267 - accuracy: 0.9921\n",
            "Epoch 28/30\n",
            "389/389 [==============================] - 39s 99ms/step - loss: 0.0383 - accuracy: 0.9881\n",
            "Epoch 29/30\n",
            "389/389 [==============================] - 39s 100ms/step - loss: 0.0299 - accuracy: 0.9915\n",
            "Epoch 30/30\n",
            "389/389 [==============================] - 39s 101ms/step - loss: 0.0274 - accuracy: 0.9909\n"
          ]
        },
        {
          "output_type": "execute_result",
          "data": {
            "text/plain": [
              "<keras.src.callbacks.History at 0x7e462c706f20>"
            ]
          },
          "metadata": {},
          "execution_count": 21
        }
      ]
    },
    {
      "cell_type": "code",
      "source": [
        "model.evaluate(X_test, Y_test)"
      ],
      "metadata": {
        "id": "S9E3NC6eG8d_",
        "colab": {
          "base_uri": "https://localhost:8080/"
        },
        "outputId": "7c1065ed-ed81-4b6f-cc6f-10d361fecfcf"
      },
      "execution_count": 22,
      "outputs": [
        {
          "output_type": "stream",
          "name": "stdout",
          "text": [
            "98/98 [==============================] - 2s 22ms/step - loss: 6.3048 - accuracy: 0.4317\n"
          ]
        },
        {
          "output_type": "execute_result",
          "data": {
            "text/plain": [
              "[6.3047661781311035, 0.43169400095939636]"
            ]
          },
          "metadata": {},
          "execution_count": 22
        }
      ]
    },
    {
      "cell_type": "code",
      "source": [
        "model.save('seqfermodel.h5')"
      ],
      "metadata": {
        "id": "Zh-N3sqEYyPT"
      },
      "execution_count": null,
      "outputs": []
    },
    {
      "cell_type": "code",
      "source": [
        "model = keras.models.load_model('seqfermodel.h5')"
      ],
      "metadata": {
        "id": "LqcRbAw5Y2ow"
      },
      "execution_count": null,
      "outputs": []
    }
  ]
}